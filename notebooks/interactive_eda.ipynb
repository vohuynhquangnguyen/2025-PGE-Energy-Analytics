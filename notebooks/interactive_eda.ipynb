{
 "cells": [
  {
   "cell_type": "code",
   "execution_count": 21,
   "metadata": {},
   "outputs": [],
   "source": [
    "import os\n",
    "import numpy as np\n",
    "import pandas as pd\n",
    "import matplotlib.pyplot as plt\n",
    "import calendar\n",
    "import ipywidgets as widgets\n",
    "from ipywidgets import interact\n",
    "\n",
    "# --- Set global Matplotlib parameters ---\n",
    "plt.rcParams[\"font.family\"] = \"serif\"\n",
    "plt.rcParams[\"figure.dpi\"] = 500\n",
    "plt.rcParams[\"font.size\"] = 20\n",
    "plt.rcParams[\"axes.labelsize\"] = 20\n",
    "plt.rcParams[\"axes.titlesize\"] = 20\n",
    "plt.rcParams[\"legend.fontsize\"] = 20\n",
    "plt.rcParams[\"xtick.direction\"] = \"in\"\n",
    "plt.rcParams[\"ytick.direction\"] = \"in\"\n",
    "plt.rcParams[\"xtick.major.size\"] = 5.0\n",
    "plt.rcParams[\"xtick.minor.size\"] = 3.0\n",
    "plt.rcParams[\"ytick.major.size\"] = 5.0\n",
    "plt.rcParams[\"ytick.minor.size\"] = 3.0\n",
    "plt.rcParams[\"axes.linewidth\"] = 1.5\n",
    "plt.rcParams[\"legend.handlelength\"] = 2.0"
   ]
  },
  {
   "cell_type": "code",
   "execution_count": 22,
   "metadata": {},
   "outputs": [],
   "source": [
    "# --- Load training data (Years 1 and 2) ---\n",
    "train_df = pd.read_excel('.././datasets/training.xlsx', sheet_name='Data')\n",
    "\n",
    "# --- Load testing data (Year 3)\n",
    "test_df = pd.read_excel('.././datasets/testing.xlsx', sheet_name='Data')"
   ]
  },
  {
   "cell_type": "markdown",
   "metadata": {},
   "source": [
    "# Hourly GHI Variation"
   ]
  },
  {
   "cell_type": "markdown",
   "metadata": {},
   "source": [
    "## Training Data (Years 1 and 2)"
   ]
  },
  {
   "cell_type": "code",
   "execution_count": 23,
   "metadata": {},
   "outputs": [
    {
     "data": {
      "application/vnd.jupyter.widget-view+json": {
       "model_id": "cf849adb230b410cb1c96f55c197f44a",
       "version_major": 2,
       "version_minor": 0
      },
      "text/plain": [
       "interactive(children=(Dropdown(description='Month:', index=3, options={'January': 1, 'February': 2, 'March': 3…"
      ]
     },
     "metadata": {},
     "output_type": "display_data"
    }
   ],
   "source": [
    "def plot_hourly_variation(month, site):\n",
    "    # Create subplots: left plot for Year 1, right plot for Year 2\n",
    "    fig, axes = plt.subplots(1, 2, figsize=(16, 8), sharey=True)\n",
    "    \n",
    "    for idx, year in enumerate([1, 2]):\n",
    "        ax = axes[idx]\n",
    "        # Filter the DataFrame for the selected month and current year\n",
    "        filtered_df = train_df[(train_df[\"Year\"] == year) & (train_df[\"Month\"] == month)]\n",
    "        \n",
    "        # Plot each day's hourly variation\n",
    "        for day in sorted(filtered_df[\"Day\"].unique()):\n",
    "            subset = filtered_df[filtered_df[\"Day\"] == day]\n",
    "            ax.plot(subset[\"Hour\"], subset[site],\n",
    "                    alpha=0.5, linestyle=\"-\", marker=\"o\", lw=1.0)\n",
    "        \n",
    "        # Compute and plot the centroid: average GHI for each hour across all days\n",
    "        centroid = filtered_df.groupby(\"Hour\")[site].mean()\n",
    "        ax.plot(centroid.index, centroid, color='black', lw=2.5, marker='D', linestyle='-', label=\"Centroid\")\n",
    "        \n",
    "        ax.set_xlabel(\"Hour of the Day\")\n",
    "        ax.set_title(f\"Hourly GHI Variation for {calendar.month_name[month]} (Year {year}) - {site}\")\n",
    "        ax.legend(loc=\"upper left\")\n",
    "    \n",
    "    axes[0].set_ylabel(\"GHI (Global Horizontal Irradiance)\")\n",
    "    plt.tight_layout()\n",
    "    plt.show()\n",
    "\n",
    "# Create widget for month selection (using month names for clarity)\n",
    "month_widget = widgets.Dropdown(\n",
    "    options={calendar.month_name[m]: m for m in sorted(train_df[\"Month\"].unique()) if m != 0},\n",
    "    value=4,\n",
    "    description=\"Month:\"\n",
    ")\n",
    "\n",
    "# Create widget for site selection (assumes site columns contain \"GHI\")\n",
    "site_columns = [col for col in train_df.columns if \"GHI\" in col]\n",
    "site_widget = widgets.Dropdown(\n",
    "    options=site_columns,\n",
    "    value=site_columns[0],\n",
    "    description=\"Site:\"\n",
    ")\n",
    "\n",
    "# Use the interactive widget with month and site selections\n",
    "interact(plot_hourly_variation, month=month_widget, site=site_widget);"
   ]
  },
  {
   "cell_type": "code",
   "execution_count": 24,
   "metadata": {},
   "outputs": [
    {
     "data": {
      "application/vnd.jupyter.widget-view+json": {
       "model_id": "24751c4c3c2f4b028a2be096fda2181f",
       "version_major": 2,
       "version_minor": 0
      },
      "text/plain": [
       "interactive(children=(Dropdown(description='Day:', options=(1, 2, 3, 4, 5, 6, 7, 8, 9, 10, 11, 12, 13, 14, 15,…"
      ]
     },
     "metadata": {},
     "output_type": "display_data"
    },
    {
     "data": {
      "text/plain": [
       "<function __main__.plot_hourly_variation(day, month, site)>"
      ]
     },
     "execution_count": 24,
     "metadata": {},
     "output_type": "execute_result"
    }
   ],
   "source": [
    "def plot_hourly_variation(day, month, site):\n",
    "    # Create subplots: left for Year 1, right for Year 2\n",
    "    fig, axes = plt.subplots(1, 2, figsize=(16, 8), sharey=True)\n",
    "    \n",
    "    for idx, year in enumerate([1, 2]):\n",
    "        ax = axes[idx]\n",
    "        # Filter the DataFrame for the selected day, month, and year\n",
    "        filtered_df = train_df[(train_df[\"Year\"] == year) & \n",
    "                               (train_df[\"Month\"] == month) & \n",
    "                               (train_df[\"Day\"] == day)]\n",
    "        \n",
    "        # Plot the hourly variation\n",
    "        ax.plot(filtered_df[\"Hour\"], filtered_df[site],\n",
    "                marker=\"o\", linestyle=\"-\", lw=1.5, label=f\"Year {year}\")\n",
    "        \n",
    "        ax.set_xlabel(\"Hour of the Day\")\n",
    "        ax.set_title(f\"{calendar.month_name[month]} {day}, Year {year}\")\n",
    "        ax.legend(loc=\"upper left\")\n",
    "    \n",
    "    axes[0].set_ylabel(\"GHI (Global Horizontal Irradiance)\")\n",
    "    plt.suptitle(f\"Hourly GHI Variation on {calendar.month_name[month]} {day} - {site}\")\n",
    "    plt.show()\n",
    "\n",
    "# Create widget for month selection (using month names for clarity)\n",
    "month_widget = widgets.Dropdown(\n",
    "    options={calendar.month_name[m]: m for m in sorted(train_df[\"Month\"].unique()) if m != 0},\n",
    "    value=4,\n",
    "    description=\"Month:\"\n",
    ")\n",
    "\n",
    "# Create widget for day selection\n",
    "day_widget = widgets.Dropdown(\n",
    "    options=sorted(train_df[\"Day\"].unique()),\n",
    "    value=1,\n",
    "    description=\"Day:\"\n",
    ")\n",
    "\n",
    "# Create widget for site selection (assumes site columns contain \"GHI\")\n",
    "site_columns = [col for col in train_df.columns if \"GHI\" in col]\n",
    "site_widget = widgets.Dropdown(\n",
    "    options=site_columns,\n",
    "    value=site_columns[0],\n",
    "    description=\"Site:\"\n",
    ")\n",
    "\n",
    "# Use the interactive widget: day, month, and site\n",
    "interact(plot_hourly_variation, day=day_widget, month=month_widget, site=site_widget)\n"
   ]
  },
  {
   "cell_type": "markdown",
   "metadata": {},
   "source": [
    "## Testing Data (Year 3)"
   ]
  },
  {
   "cell_type": "code",
   "execution_count": 25,
   "metadata": {},
   "outputs": [
    {
     "data": {
      "application/vnd.jupyter.widget-view+json": {
       "model_id": "58d2318d95de49089240427ead8452b1",
       "version_major": 2,
       "version_minor": 0
      },
      "text/plain": [
       "interactive(children=(Dropdown(description='Month:', index=3, options={'January': 1, 'February': 2, 'March': 3…"
      ]
     },
     "metadata": {},
     "output_type": "display_data"
    }
   ],
   "source": [
    "def plot_hourly_variation(month, site):\n",
    "    # Filter the testing DataFrame for the specified month and Year 3 (testing data)\n",
    "    filtered_df = test_df[(test_df[\"Year\"] == 3) & (test_df[\"Month\"] == month)]\n",
    "    \n",
    "    plt.figure(figsize=(10, 6))\n",
    "    \n",
    "    # Plot each day's hourly variation\n",
    "    for day in sorted(filtered_df[\"Day\"].unique()):\n",
    "        subset = filtered_df[filtered_df[\"Day\"] == day]\n",
    "        plt.plot(subset[\"Hour\"], subset[site],\n",
    "                 alpha=0.5, linestyle=\"-\", marker=\"o\", lw=1.0)\n",
    "    \n",
    "    # Compute and plot the centroid: average GHI for each hour across all days\n",
    "    centroid = filtered_df.groupby(\"Hour\")[site].mean()\n",
    "    plt.plot(centroid.index, centroid, color='black', lw=2.5, marker='D', linestyle='-', label=\"Centroid\")\n",
    "    \n",
    "    plt.xlabel(\"Hour of the Day\")\n",
    "    plt.ylabel(\"GHI (Global Horizontal Irradiance)\")\n",
    "    plt.title(f\"Hourly GHI Variation for {calendar.month_name[month]} (Year 3) - {site}\")\n",
    "    plt.legend(loc=\"upper left\")\n",
    "    plt.show()\n",
    "\n",
    "# Create widget for month selection (using month names for clarity)\n",
    "month_widget = widgets.Dropdown(\n",
    "    options={calendar.month_name[m]: m for m in sorted(test_df[\"Month\"].unique()) if m != 0},\n",
    "    value=4,\n",
    "    description=\"Month:\"\n",
    ")\n",
    "\n",
    "# Create widget for site selection (assumes site columns contain \"GHI\")\n",
    "site_columns = [col for col in test_df.columns if \"GHI\" in col]\n",
    "site_widget = widgets.Dropdown(\n",
    "    options=site_columns,\n",
    "    value=site_columns[0],\n",
    "    description=\"Site:\"\n",
    ")\n",
    "\n",
    "# Use the interactive widget for month and site selections\n",
    "interact(plot_hourly_variation, month=month_widget, site=site_widget);"
   ]
  },
  {
   "cell_type": "code",
   "execution_count": 26,
   "metadata": {},
   "outputs": [
    {
     "data": {
      "application/vnd.jupyter.widget-view+json": {
       "model_id": "fc33d321eaa04e1f9f844719edb9ff9f",
       "version_major": 2,
       "version_minor": 0
      },
      "text/plain": [
       "interactive(children=(Dropdown(description='Day:', options=(1, 2, 3, 4, 5, 6, 7, 8, 9, 10, 11, 12, 13, 14, 15,…"
      ]
     },
     "metadata": {},
     "output_type": "display_data"
    }
   ],
   "source": [
    "def plot_hourly_variation(day, month, site):\n",
    "    # Filter the testing DataFrame for the specified day, month, and Year 3\n",
    "    filtered_df = test_df[(test_df[\"Year\"] == 3) & \n",
    "                          (test_df[\"Month\"] == month) & \n",
    "                          (test_df[\"Day\"] == day)]\n",
    "    \n",
    "    plt.figure(figsize=(10, 6))\n",
    "    \n",
    "    # Plot the hourly variation for Year 3\n",
    "    plt.plot(filtered_df[\"Hour\"], filtered_df[site],\n",
    "             marker=\"o\", linestyle=\"-\", lw=1.5, label=\"Year 3\")\n",
    "    \n",
    "    plt.xlabel(\"Hour of the Day\")\n",
    "    plt.ylabel(\"GHI (Global Horizontal Irradiance)\")\n",
    "    plt.title(f\"Hourly GHI Variation on {calendar.month_name[month]} {day}, Year 3 - {site}\")\n",
    "    plt.legend(loc=\"upper left\")\n",
    "    plt.show()\n",
    "\n",
    "# Create widget for month selection (using month names for clarity)\n",
    "month_widget = widgets.Dropdown(\n",
    "    options={calendar.month_name[m]: m for m in sorted(test_df[\"Month\"].unique()) if m != 0},\n",
    "    value=4,\n",
    "    description=\"Month:\"\n",
    ")\n",
    "\n",
    "# Create widget for day selection\n",
    "day_widget = widgets.Dropdown(\n",
    "    options=sorted(test_df[\"Day\"].unique()),\n",
    "    value=1,\n",
    "    description=\"Day:\"\n",
    ")\n",
    "\n",
    "# Create widget for site selection (assumes site columns contain \"GHI\")\n",
    "site_columns = [col for col in test_df.columns if \"GHI\" in col]\n",
    "site_widget = widgets.Dropdown(\n",
    "    options=site_columns,\n",
    "    value=site_columns[0],\n",
    "    description=\"Site:\"\n",
    ")\n",
    "\n",
    "# Use the interactive widget for day, month, and site selections\n",
    "interact(plot_hourly_variation, day=day_widget, month=month_widget, site=site_widget);"
   ]
  },
  {
   "cell_type": "markdown",
   "metadata": {},
   "source": [
    "# Hourly Temperature Variation"
   ]
  },
  {
   "cell_type": "markdown",
   "metadata": {},
   "source": [
    "## Training Data (Years 1 and 2)"
   ]
  },
  {
   "cell_type": "code",
   "execution_count": 32,
   "metadata": {},
   "outputs": [
    {
     "data": {
      "application/vnd.jupyter.widget-view+json": {
       "model_id": "f4121d54e81f4c49a2e8f9f7adc01cb3",
       "version_major": 2,
       "version_minor": 0
      },
      "text/plain": [
       "interactive(children=(Dropdown(description='Month:', index=3, options={'January': 1, 'February': 2, 'March': 3…"
      ]
     },
     "metadata": {},
     "output_type": "display_data"
    }
   ],
   "source": [
    "def plot_hourly_variation(month, site):\n",
    "    # Create subplots: left plot for Year 1, right plot for Year 2\n",
    "    fig, axes = plt.subplots(1, 2, figsize=(16, 8), sharey=True)\n",
    "    \n",
    "    for idx, year in enumerate([1, 2]):\n",
    "        ax = axes[idx]\n",
    "        # Filter the DataFrame for the selected month and current year\n",
    "        filtered_df = train_df[(train_df[\"Year\"] == year) & (train_df[\"Month\"] == month)]\n",
    "        \n",
    "        # Plot each day's hourly variation\n",
    "        for day in sorted(filtered_df[\"Day\"].unique()):\n",
    "            subset = filtered_df[filtered_df[\"Day\"] == day]\n",
    "            ax.plot(subset[\"Hour\"], subset[site],\n",
    "                    alpha=0.5, linestyle=\"-\", marker=\"o\", lw=1.0)\n",
    "        \n",
    "        # Compute and plot the centroid: average GHI for each hour across all days\n",
    "        centroid = filtered_df.groupby(\"Hour\")[site].mean()\n",
    "        ax.plot(centroid.index, centroid, color='black', lw=2.5, marker='D', linestyle='-', label=\"Centroid\")\n",
    "        \n",
    "        ax.set_xlabel(\"Hour of the Day\")\n",
    "        ax.set_title(f\"Hourly Temp for {calendar.month_name[month]} (Year {year}) - {site}\")\n",
    "        ax.legend(loc=\"upper left\")\n",
    "    \n",
    "    axes[0].set_ylabel(\"Temperature\")\n",
    "    plt.tight_layout()\n",
    "    plt.show()\n",
    "\n",
    "# Create widget for month selection (using month names for clarity)\n",
    "month_widget = widgets.Dropdown(\n",
    "    options={calendar.month_name[m]: m for m in sorted(train_df[\"Month\"].unique()) if m != 0},\n",
    "    value=4,\n",
    "    description=\"Month:\"\n",
    ")\n",
    "\n",
    "# Create widget for site selection (assumes site columns contain \"GHI\")\n",
    "site_columns = [col for col in train_df.columns if \"Temp\" in col]\n",
    "site_widget = widgets.Dropdown(\n",
    "    options=site_columns,\n",
    "    value=site_columns[0],\n",
    "    description=\"Site:\"\n",
    ")\n",
    "\n",
    "# Use the interactive widget with month and site selections\n",
    "interact(plot_hourly_variation, month=month_widget, site=site_widget);"
   ]
  },
  {
   "cell_type": "code",
   "execution_count": 33,
   "metadata": {},
   "outputs": [
    {
     "data": {
      "application/vnd.jupyter.widget-view+json": {
       "model_id": "ad2aea38a8c34c548554d4c8b779e5ac",
       "version_major": 2,
       "version_minor": 0
      },
      "text/plain": [
       "interactive(children=(Dropdown(description='Day:', options=(1, 2, 3, 4, 5, 6, 7, 8, 9, 10, 11, 12, 13, 14, 15,…"
      ]
     },
     "metadata": {},
     "output_type": "display_data"
    },
    {
     "data": {
      "text/plain": [
       "<function __main__.plot_hourly_variation(day, month, site)>"
      ]
     },
     "execution_count": 33,
     "metadata": {},
     "output_type": "execute_result"
    }
   ],
   "source": [
    "def plot_hourly_variation(day, month, site):\n",
    "    # Create subplots: left for Year 1, right for Year 2\n",
    "    fig, axes = plt.subplots(1, 2, figsize=(16, 8), sharey=True)\n",
    "    \n",
    "    for idx, year in enumerate([1, 2]):\n",
    "        ax = axes[idx]\n",
    "        # Filter the DataFrame for the selected day, month, and year\n",
    "        filtered_df = train_df[(train_df[\"Year\"] == year) & \n",
    "                               (train_df[\"Month\"] == month) & \n",
    "                               (train_df[\"Day\"] == day)]\n",
    "        \n",
    "        # Plot the hourly variation\n",
    "        ax.plot(filtered_df[\"Hour\"], filtered_df[site],\n",
    "                marker=\"o\", linestyle=\"-\", lw=1.5, label=f\"Year {year}\")\n",
    "        \n",
    "        ax.set_xlabel(\"Hour of the Day\")\n",
    "        ax.set_title(f\"{calendar.month_name[month]} {day}, Year {year}\")\n",
    "        ax.legend(loc=\"upper left\")\n",
    "    \n",
    "    axes[0].set_ylabel(\"Temperature\")\n",
    "    plt.suptitle(f\"Hourly Temp on {calendar.month_name[month]} {day} - {site}\")\n",
    "    plt.show()\n",
    "\n",
    "# Create widget for month selection (using month names for clarity)\n",
    "month_widget = widgets.Dropdown(\n",
    "    options={calendar.month_name[m]: m for m in sorted(train_df[\"Month\"].unique()) if m != 0},\n",
    "    value=4,\n",
    "    description=\"Month:\"\n",
    ")\n",
    "\n",
    "# Create widget for day selection\n",
    "day_widget = widgets.Dropdown(\n",
    "    options=sorted(train_df[\"Day\"].unique()),\n",
    "    value=1,\n",
    "    description=\"Day:\"\n",
    ")\n",
    "\n",
    "# Create widget for site selection (assumes site columns contain \"GHI\")\n",
    "site_columns = [col for col in train_df.columns if \"Temp\" in col]\n",
    "site_widget = widgets.Dropdown(\n",
    "    options=site_columns,\n",
    "    value=site_columns[0],\n",
    "    description=\"Site:\"\n",
    ")\n",
    "\n",
    "# Use the interactive widget: day, month, and site\n",
    "interact(plot_hourly_variation, day=day_widget, month=month_widget, site=site_widget)\n"
   ]
  },
  {
   "cell_type": "markdown",
   "metadata": {},
   "source": [
    "## Testing Data (Year 3)"
   ]
  },
  {
   "cell_type": "code",
   "execution_count": 34,
   "metadata": {},
   "outputs": [
    {
     "data": {
      "application/vnd.jupyter.widget-view+json": {
       "model_id": "3de844a0a40c447facafd9b2992421c0",
       "version_major": 2,
       "version_minor": 0
      },
      "text/plain": [
       "interactive(children=(Dropdown(description='Month:', index=3, options={'January': 1, 'February': 2, 'March': 3…"
      ]
     },
     "metadata": {},
     "output_type": "display_data"
    }
   ],
   "source": [
    "def plot_hourly_variation(month, site):\n",
    "    # Filter the testing DataFrame for the specified month and Year 3 (testing data)\n",
    "    filtered_df = test_df[(test_df[\"Year\"] == 3) & (test_df[\"Month\"] == month)]\n",
    "    \n",
    "    plt.figure(figsize=(10, 6))\n",
    "    \n",
    "    # Plot each day's hourly variation\n",
    "    for day in sorted(filtered_df[\"Day\"].unique()):\n",
    "        subset = filtered_df[filtered_df[\"Day\"] == day]\n",
    "        plt.plot(subset[\"Hour\"], subset[site],\n",
    "                 alpha=0.5, linestyle=\"-\", marker=\"o\", lw=1.0)\n",
    "    \n",
    "    # Compute and plot the centroid: average GHI for each hour across all days\n",
    "    centroid = filtered_df.groupby(\"Hour\")[site].mean()\n",
    "    plt.plot(centroid.index, centroid, color='black', lw=2.5, marker='D', linestyle='-', label=\"Centroid\")\n",
    "    \n",
    "    plt.xlabel(\"Hour of the Day\")\n",
    "    plt.ylabel(\"Temperature\")\n",
    "    plt.title(f\"Hourly Temp for {calendar.month_name[month]} (Year 3) - {site}\")\n",
    "    plt.legend(loc=\"upper left\")\n",
    "    plt.show()\n",
    "\n",
    "# Create widget for month selection (using month names for clarity)\n",
    "month_widget = widgets.Dropdown(\n",
    "    options={calendar.month_name[m]: m for m in sorted(test_df[\"Month\"].unique()) if m != 0},\n",
    "    value=4,\n",
    "    description=\"Month:\"\n",
    ")\n",
    "\n",
    "# Create widget for site selection (assumes site columns contain \"GHI\")\n",
    "site_columns = [col for col in test_df.columns if \"Temp\" in col]\n",
    "site_widget = widgets.Dropdown(\n",
    "    options=site_columns,\n",
    "    value=site_columns[0],\n",
    "    description=\"Site:\"\n",
    ")\n",
    "\n",
    "# Use the interactive widget for month and site selections\n",
    "interact(plot_hourly_variation, month=month_widget, site=site_widget);"
   ]
  },
  {
   "cell_type": "code",
   "execution_count": 35,
   "metadata": {},
   "outputs": [
    {
     "data": {
      "application/vnd.jupyter.widget-view+json": {
       "model_id": "b7e82b7f62f24ff1b4632315b78d7402",
       "version_major": 2,
       "version_minor": 0
      },
      "text/plain": [
       "interactive(children=(Dropdown(description='Day:', options=(1, 2, 3, 4, 5, 6, 7, 8, 9, 10, 11, 12, 13, 14, 15,…"
      ]
     },
     "metadata": {},
     "output_type": "display_data"
    }
   ],
   "source": [
    "def plot_hourly_variation(day, month, site):\n",
    "    # Filter the testing DataFrame for the specified day, month, and Year 3\n",
    "    filtered_df = test_df[(test_df[\"Year\"] == 3) & \n",
    "                          (test_df[\"Month\"] == month) & \n",
    "                          (test_df[\"Day\"] == day)]\n",
    "    \n",
    "    plt.figure(figsize=(10, 6))\n",
    "    \n",
    "    # Plot the hourly variation for Year 3\n",
    "    plt.plot(filtered_df[\"Hour\"], filtered_df[site],\n",
    "             marker=\"o\", linestyle=\"-\", lw=1.5, label=\"Year 3\")\n",
    "    \n",
    "    plt.xlabel(\"Hour of the Day\")\n",
    "    plt.ylabel(\"Temperature\")\n",
    "    plt.title(f\"Hourly Temp on {calendar.month_name[month]} {day}, Year 3 - {site}\")\n",
    "    plt.legend(loc=\"upper left\")\n",
    "    plt.show()\n",
    "\n",
    "# Create widget for month selection (using month names for clarity)\n",
    "month_widget = widgets.Dropdown(\n",
    "    options={calendar.month_name[m]: m for m in sorted(test_df[\"Month\"].unique()) if m != 0},\n",
    "    value=4,\n",
    "    description=\"Month:\"\n",
    ")\n",
    "\n",
    "# Create widget for day selection\n",
    "day_widget = widgets.Dropdown(\n",
    "    options=sorted(test_df[\"Day\"].unique()),\n",
    "    value=1,\n",
    "    description=\"Day:\"\n",
    ")\n",
    "\n",
    "# Create widget for site selection (assumes site columns contain \"GHI\")\n",
    "site_columns = [col for col in test_df.columns if \"Temp\" in col]\n",
    "site_widget = widgets.Dropdown(\n",
    "    options=site_columns,\n",
    "    value=site_columns[0],\n",
    "    description=\"Site:\"\n",
    ")\n",
    "\n",
    "# Use the interactive widget for day, month, and site selections\n",
    "interact(plot_hourly_variation, day=day_widget, month=month_widget, site=site_widget);"
   ]
  },
  {
   "cell_type": "markdown",
   "metadata": {},
   "source": [
    "# Electric Load"
   ]
  },
  {
   "cell_type": "code",
   "execution_count": 36,
   "metadata": {},
   "outputs": [
    {
     "data": {
      "application/vnd.jupyter.widget-view+json": {
       "model_id": "2015f9378b4d44688c16d2b048852aec",
       "version_major": 2,
       "version_minor": 0
      },
      "text/plain": [
       "interactive(children=(Dropdown(description='Month:', index=3, options={'January': 1, 'February': 2, 'March': 3…"
      ]
     },
     "metadata": {},
     "output_type": "display_data"
    }
   ],
   "source": [
    "def plot_hourly_load_variation(month):\n",
    "    # Create subplots: left for Year 1, right for Year 2\n",
    "    fig, axes = plt.subplots(1, 2, figsize=(16, 6), sharey=True)\n",
    "    \n",
    "    for idx, year in enumerate([1, 2]):\n",
    "        ax = axes[idx]\n",
    "        # Filter the DataFrame for the selected month and current year\n",
    "        filtered_df = train_df[(train_df[\"Year\"] == year) & (train_df[\"Month\"] == month)]\n",
    "        \n",
    "        # Plot each day's hourly load variation\n",
    "        for day in sorted(filtered_df[\"Day\"].unique()):\n",
    "            subset = filtered_df[filtered_df[\"Day\"] == day]\n",
    "            ax.plot(subset[\"Hour\"], subset[\"Load\"],\n",
    "                    alpha=0.5, linestyle=\"-\", marker=\"o\", lw=1.0)\n",
    "        \n",
    "        # Compute and plot the centroid: average load for each hour across all days\n",
    "        centroid = filtered_df.groupby(\"Hour\")[\"Load\"].mean()\n",
    "        ax.plot(centroid.index, centroid, color='black', lw=2.5, marker='D',\n",
    "                linestyle='-', label=\"Centroid\")\n",
    "        \n",
    "        ax.set_xlabel(\"Hour of the Day\")\n",
    "        ax.set_title(f\"Hourly Load for {calendar.month_name[month]} (Year {year})\")\n",
    "        ax.legend(loc=\"upper left\")\n",
    "    \n",
    "    axes[0].set_ylabel(\"Electricity Load\")\n",
    "    plt.suptitle(f\"Hourly Electricity Load Variation for {calendar.month_name[month]}\")\n",
    "    plt.tight_layout(rect=[0, 0, 1, 0.95])\n",
    "    plt.show()\n",
    "\n",
    "# Create widget for month selection (using month names for clarity)\n",
    "month_widget = widgets.Dropdown(\n",
    "    options={calendar.month_name[m]: m for m in sorted(train_df[\"Month\"].unique()) if m != 0},\n",
    "    value=4,\n",
    "    description=\"Month:\"\n",
    ")\n",
    "\n",
    "# Use the interactive widget to update the plot\n",
    "interact(plot_hourly_load_variation, month=month_widget);"
   ]
  },
  {
   "cell_type": "code",
   "execution_count": 37,
   "metadata": {},
   "outputs": [
    {
     "data": {
      "application/vnd.jupyter.widget-view+json": {
       "model_id": "0833d28bd2b64b9b8f9dadb9dbafef27",
       "version_major": 2,
       "version_minor": 0
      },
      "text/plain": [
       "interactive(children=(Dropdown(description='Day:', options=(1, 2, 3, 4, 5, 6, 7, 8, 9, 10, 11, 12, 13, 14, 15,…"
      ]
     },
     "metadata": {},
     "output_type": "display_data"
    }
   ],
   "source": [
    "def plot_hourly_load_variation(day, month):\n",
    "    # Create subplots: left for Year 1, right for Year 2\n",
    "    fig, axes = plt.subplots(1, 2, figsize=(16, 6), sharey=True)\n",
    "    \n",
    "    for idx, year in enumerate([1, 2]):\n",
    "        ax = axes[idx]\n",
    "        # Filter the DataFrame for the selected day, month, and current year\n",
    "        filtered_df = train_df[(train_df[\"Year\"] == year) & \n",
    "                               (train_df[\"Month\"] == month) & \n",
    "                               (train_df[\"Day\"] == day)]\n",
    "        \n",
    "        # Plot the hourly load variation for the specified day\n",
    "        ax.plot(filtered_df[\"Hour\"], filtered_df[\"Load\"],\n",
    "                marker=\"o\", linestyle=\"-\", lw=1.5, label=f\"Year {year}\")\n",
    "        \n",
    "        ax.set_xlabel(\"Hour of the Day\")\n",
    "        ax.set_title(f\"{calendar.month_name[month]} {day}, Year {year}\")\n",
    "        ax.legend(loc=\"upper left\")\n",
    "    \n",
    "    axes[0].set_ylabel(\"Electricity Load\")\n",
    "    plt.suptitle(f\"Hourly Electricity Load Variation on {calendar.month_name[month]} {day}\")\n",
    "    plt.tight_layout(rect=[0, 0, 1, 0.95])\n",
    "    plt.show()\n",
    "\n",
    "# Create widget for month selection (displaying month names for clarity)\n",
    "month_widget = widgets.Dropdown(\n",
    "    options={calendar.month_name[m]: m for m in sorted(train_df[\"Month\"].unique()) if m != 0},\n",
    "    value=4,\n",
    "    description=\"Month:\"\n",
    ")\n",
    "\n",
    "# Create widget for day selection\n",
    "day_widget = widgets.Dropdown(\n",
    "    options=sorted(train_df[\"Day\"].unique()),\n",
    "    value=1,\n",
    "    description=\"Day:\"\n",
    ")\n",
    "\n",
    "# Use the interactive widget for day and month selections\n",
    "interact(plot_hourly_load_variation, day=day_widget, month=month_widget);"
   ]
  }
 ],
 "metadata": {
  "kernelspec": {
   "display_name": "base",
   "language": "python",
   "name": "python3"
  },
  "language_info": {
   "codemirror_mode": {
    "name": "ipython",
    "version": 3
   },
   "file_extension": ".py",
   "mimetype": "text/x-python",
   "name": "python",
   "nbconvert_exporter": "python",
   "pygments_lexer": "ipython3",
   "version": "3.11.7"
  }
 },
 "nbformat": 4,
 "nbformat_minor": 2
}
