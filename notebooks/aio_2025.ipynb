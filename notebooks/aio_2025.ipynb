{
 "cells": [
  {
   "cell_type": "markdown",
   "id": "3fb4f543",
   "metadata": {},
   "source": [
    "## Exploratory Data Analysis"
   ]
  },
  {
   "cell_type": "code",
   "execution_count": 1,
   "id": "4e2ef3f2",
   "metadata": {},
   "outputs": [],
   "source": [
    "# --- Import necessary libraries ---\n",
    "import os\n",
    "import numpy as np\n",
    "import pandas as pd\n",
    "import matplotlib.pyplot as plt\n",
    "import calendar\n",
    "import ipywidgets as widgets\n",
    "from ipywidgets import interact\n",
    "\n",
    "# --- Set global Matplotlib parameters ---\n",
    "plt.rcParams[\"font.family\"] = \"serif\"\n",
    "plt.rcParams[\"figure.dpi\"] = 1000\n",
    "plt.rcParams[\"font.size\"] = 20\n",
    "plt.rcParams[\"axes.labelsize\"] = 20\n",
    "plt.rcParams[\"axes.titlesize\"] = 18\n",
    "plt.rcParams[\"legend.fontsize\"] = 20\n",
    "plt.rcParams[\"xtick.direction\"] = \"in\"\n",
    "plt.rcParams[\"ytick.direction\"] = \"in\"\n",
    "plt.rcParams[\"xtick.major.size\"] = 5.0\n",
    "plt.rcParams[\"xtick.minor.size\"] = 3.0\n",
    "plt.rcParams[\"ytick.major.size\"] = 5.0\n",
    "plt.rcParams[\"ytick.minor.size\"] = 3.0\n",
    "plt.rcParams[\"axes.linewidth\"] = 1.5\n",
    "plt.rcParams[\"legend.handlelength\"] = 2.0"
   ]
  },
  {
   "cell_type": "code",
   "execution_count": 2,
   "id": "494ee753",
   "metadata": {},
   "outputs": [],
   "source": [
    "# --- Load training data (Years 1 and 2) ---\n",
    "train_df = pd.read_excel('.././datasets/training.xlsx', sheet_name='Data')\n",
    "\n",
    "# --- Load testing data (Year 3)\n",
    "test_df = pd.read_excel('.././datasets/testing.xlsx', sheet_name='Data')"
   ]
  },
  {
   "cell_type": "markdown",
   "id": "4d62b4d8",
   "metadata": {},
   "source": [
    "### Descriptive Statistics"
   ]
  },
  {
   "cell_type": "code",
   "execution_count": 3,
   "id": "f25a70aa",
   "metadata": {},
   "outputs": [
    {
     "name": "stdout",
     "output_type": "stream",
     "text": [
      "Descriptive Statistics for Training Data (Years 1 & 2)\n"
     ]
    },
    {
     "data": {
      "text/html": [
       "<style type=\"text/css\">\n",
       "</style>\n",
       "<table id=\"T_c584a\">\n",
       "  <thead>\n",
       "    <tr>\n",
       "      <th class=\"blank\" >&nbsp;</th>\n",
       "      <th class=\"blank level0\" >&nbsp;</th>\n",
       "      <th id=\"T_c584a_level0_col0\" class=\"col_heading level0 col0\" >Load</th>\n",
       "      <th id=\"T_c584a_level0_col1\" class=\"col_heading level0 col1\" colspan=\"5\">Temperature</th>\n",
       "      <th id=\"T_c584a_level0_col6\" class=\"col_heading level0 col6\" colspan=\"5\">Global Horizontal Irradiance</th>\n",
       "    </tr>\n",
       "    <tr>\n",
       "      <th class=\"blank\" >&nbsp;</th>\n",
       "      <th class=\"blank level1\" >&nbsp;</th>\n",
       "      <th id=\"T_c584a_level1_col0\" class=\"col_heading level1 col0\" ></th>\n",
       "      <th id=\"T_c584a_level1_col1\" class=\"col_heading level1 col1\" >Site 1</th>\n",
       "      <th id=\"T_c584a_level1_col2\" class=\"col_heading level1 col2\" >Site 2</th>\n",
       "      <th id=\"T_c584a_level1_col3\" class=\"col_heading level1 col3\" >Site 3</th>\n",
       "      <th id=\"T_c584a_level1_col4\" class=\"col_heading level1 col4\" >Site 4</th>\n",
       "      <th id=\"T_c584a_level1_col5\" class=\"col_heading level1 col5\" >Site 5</th>\n",
       "      <th id=\"T_c584a_level1_col6\" class=\"col_heading level1 col6\" >Site 1</th>\n",
       "      <th id=\"T_c584a_level1_col7\" class=\"col_heading level1 col7\" >Site 2</th>\n",
       "      <th id=\"T_c584a_level1_col8\" class=\"col_heading level1 col8\" >Site 3</th>\n",
       "      <th id=\"T_c584a_level1_col9\" class=\"col_heading level1 col9\" >Site 4</th>\n",
       "      <th id=\"T_c584a_level1_col10\" class=\"col_heading level1 col10\" >Site 5</th>\n",
       "    </tr>\n",
       "    <tr>\n",
       "      <th class=\"index_name level0\" >Year</th>\n",
       "      <th class=\"index_name level1\" >&nbsp;</th>\n",
       "      <th class=\"blank col0\" >&nbsp;</th>\n",
       "      <th class=\"blank col1\" >&nbsp;</th>\n",
       "      <th class=\"blank col2\" >&nbsp;</th>\n",
       "      <th class=\"blank col3\" >&nbsp;</th>\n",
       "      <th class=\"blank col4\" >&nbsp;</th>\n",
       "      <th class=\"blank col5\" >&nbsp;</th>\n",
       "      <th class=\"blank col6\" >&nbsp;</th>\n",
       "      <th class=\"blank col7\" >&nbsp;</th>\n",
       "      <th class=\"blank col8\" >&nbsp;</th>\n",
       "      <th class=\"blank col9\" >&nbsp;</th>\n",
       "      <th class=\"blank col10\" >&nbsp;</th>\n",
       "    </tr>\n",
       "  </thead>\n",
       "  <tbody>\n",
       "    <tr>\n",
       "      <th id=\"T_c584a_level0_row0\" class=\"row_heading level0 row0\" rowspan=\"7\">1</th>\n",
       "      <th id=\"T_c584a_level1_row0\" class=\"row_heading level1 row0\" >Mean</th>\n",
       "      <td id=\"T_c584a_row0_col0\" class=\"data row0 col0\" >2162.82</td>\n",
       "      <td id=\"T_c584a_row0_col1\" class=\"data row0 col1\" >17.31</td>\n",
       "      <td id=\"T_c584a_row0_col2\" class=\"data row0 col2\" >17.17</td>\n",
       "      <td id=\"T_c584a_row0_col3\" class=\"data row0 col3\" >18.27</td>\n",
       "      <td id=\"T_c584a_row0_col4\" class=\"data row0 col4\" >17.72</td>\n",
       "      <td id=\"T_c584a_row0_col5\" class=\"data row0 col5\" >17.60</td>\n",
       "      <td id=\"T_c584a_row0_col6\" class=\"data row0 col6\" >225.80</td>\n",
       "      <td id=\"T_c584a_row0_col7\" class=\"data row0 col7\" >222.47</td>\n",
       "      <td id=\"T_c584a_row0_col8\" class=\"data row0 col8\" >226.91</td>\n",
       "      <td id=\"T_c584a_row0_col9\" class=\"data row0 col9\" >227.06</td>\n",
       "      <td id=\"T_c584a_row0_col10\" class=\"data row0 col10\" >228.39</td>\n",
       "    </tr>\n",
       "    <tr>\n",
       "      <th id=\"T_c584a_level1_row1\" class=\"row_heading level1 row1\" >Variance</th>\n",
       "      <td id=\"T_c584a_row1_col0\" class=\"data row1 col0\" >216944.79</td>\n",
       "      <td id=\"T_c584a_row1_col1\" class=\"data row1 col1\" >23.65</td>\n",
       "      <td id=\"T_c584a_row1_col2\" class=\"data row1 col2\" >20.35</td>\n",
       "      <td id=\"T_c584a_row1_col3\" class=\"data row1 col3\" >54.16</td>\n",
       "      <td id=\"T_c584a_row1_col4\" class=\"data row1 col4\" >22.59</td>\n",
       "      <td id=\"T_c584a_row1_col5\" class=\"data row1 col5\" >34.06</td>\n",
       "      <td id=\"T_c584a_row1_col6\" class=\"data row1 col6\" >93137.48</td>\n",
       "      <td id=\"T_c584a_row1_col7\" class=\"data row1 col7\" >90908.02</td>\n",
       "      <td id=\"T_c584a_row1_col8\" class=\"data row1 col8\" >94454.84</td>\n",
       "      <td id=\"T_c584a_row1_col9\" class=\"data row1 col9\" >94023.73</td>\n",
       "      <td id=\"T_c584a_row1_col10\" class=\"data row1 col10\" >94894.82</td>\n",
       "    </tr>\n",
       "    <tr>\n",
       "      <th id=\"T_c584a_level1_row2\" class=\"row_heading level1 row2\" >Median</th>\n",
       "      <td id=\"T_c584a_row2_col0\" class=\"data row2 col0\" >2072.00</td>\n",
       "      <td id=\"T_c584a_row2_col1\" class=\"data row2 col1\" >17.50</td>\n",
       "      <td id=\"T_c584a_row2_col2\" class=\"data row2 col2\" >17.40</td>\n",
       "      <td id=\"T_c584a_row2_col3\" class=\"data row2 col3\" >17.30</td>\n",
       "      <td id=\"T_c584a_row2_col4\" class=\"data row2 col4\" >17.80</td>\n",
       "      <td id=\"T_c584a_row2_col5\" class=\"data row2 col5\" >17.30</td>\n",
       "      <td id=\"T_c584a_row2_col6\" class=\"data row2 col6\" >12.00</td>\n",
       "      <td id=\"T_c584a_row2_col7\" class=\"data row2 col7\" >12.00</td>\n",
       "      <td id=\"T_c584a_row2_col8\" class=\"data row2 col8\" >12.00</td>\n",
       "      <td id=\"T_c584a_row2_col9\" class=\"data row2 col9\" >12.00</td>\n",
       "      <td id=\"T_c584a_row2_col10\" class=\"data row2 col10\" >13.00</td>\n",
       "    </tr>\n",
       "    <tr>\n",
       "      <th id=\"T_c584a_level1_row3\" class=\"row_heading level1 row3\" >Min</th>\n",
       "      <td id=\"T_c584a_row3_col0\" class=\"data row3 col0\" >1101.00</td>\n",
       "      <td id=\"T_c584a_row3_col1\" class=\"data row3 col1\" >1.90</td>\n",
       "      <td id=\"T_c584a_row3_col2\" class=\"data row3 col2\" >2.90</td>\n",
       "      <td id=\"T_c584a_row3_col3\" class=\"data row3 col3\" >-0.50</td>\n",
       "      <td id=\"T_c584a_row3_col4\" class=\"data row3 col4\" >2.60</td>\n",
       "      <td id=\"T_c584a_row3_col5\" class=\"data row3 col5\" >0.90</td>\n",
       "      <td id=\"T_c584a_row3_col6\" class=\"data row3 col6\" >0.00</td>\n",
       "      <td id=\"T_c584a_row3_col7\" class=\"data row3 col7\" >0.00</td>\n",
       "      <td id=\"T_c584a_row3_col8\" class=\"data row3 col8\" >0.00</td>\n",
       "      <td id=\"T_c584a_row3_col9\" class=\"data row3 col9\" >0.00</td>\n",
       "      <td id=\"T_c584a_row3_col10\" class=\"data row3 col10\" >0.00</td>\n",
       "    </tr>\n",
       "    <tr>\n",
       "      <th id=\"T_c584a_level1_row4\" class=\"row_heading level1 row4\" >Max</th>\n",
       "      <td id=\"T_c584a_row4_col0\" class=\"data row4 col0\" >4397.00</td>\n",
       "      <td id=\"T_c584a_row4_col1\" class=\"data row4 col1\" >36.60</td>\n",
       "      <td id=\"T_c584a_row4_col2\" class=\"data row4 col2\" >31.90</td>\n",
       "      <td id=\"T_c584a_row4_col3\" class=\"data row4 col3\" >43.00</td>\n",
       "      <td id=\"T_c584a_row4_col4\" class=\"data row4 col4\" >36.60</td>\n",
       "      <td id=\"T_c584a_row4_col5\" class=\"data row4 col5\" >39.70</td>\n",
       "      <td id=\"T_c584a_row4_col6\" class=\"data row4 col6\" >1037.00</td>\n",
       "      <td id=\"T_c584a_row4_col7\" class=\"data row4 col7\" >1028.00</td>\n",
       "      <td id=\"T_c584a_row4_col8\" class=\"data row4 col8\" >1041.00</td>\n",
       "      <td id=\"T_c584a_row4_col9\" class=\"data row4 col9\" >1047.00</td>\n",
       "      <td id=\"T_c584a_row4_col10\" class=\"data row4 col10\" >1049.00</td>\n",
       "    </tr>\n",
       "    <tr>\n",
       "      <th id=\"T_c584a_level1_row5\" class=\"row_heading level1 row5\" >Skewness</th>\n",
       "      <td id=\"T_c584a_row5_col0\" class=\"data row5 col0\" >1.18</td>\n",
       "      <td id=\"T_c584a_row5_col1\" class=\"data row5 col1\" >0.09</td>\n",
       "      <td id=\"T_c584a_row5_col2\" class=\"data row5 col2\" >-0.00</td>\n",
       "      <td id=\"T_c584a_row5_col3\" class=\"data row5 col3\" >0.45</td>\n",
       "      <td id=\"T_c584a_row5_col4\" class=\"data row5 col4\" >0.20</td>\n",
       "      <td id=\"T_c584a_row5_col5\" class=\"data row5 col5\" >0.42</td>\n",
       "      <td id=\"T_c584a_row5_col6\" class=\"data row5 col6\" >1.07</td>\n",
       "      <td id=\"T_c584a_row5_col7\" class=\"data row5 col7\" >1.09</td>\n",
       "      <td id=\"T_c584a_row5_col8\" class=\"data row5 col8\" >1.09</td>\n",
       "      <td id=\"T_c584a_row5_col9\" class=\"data row5 col9\" >1.08</td>\n",
       "      <td id=\"T_c584a_row5_col10\" class=\"data row5 col10\" >1.08</td>\n",
       "    </tr>\n",
       "    <tr>\n",
       "      <th id=\"T_c584a_level1_row6\" class=\"row_heading level1 row6\" >Kurtosis</th>\n",
       "      <td id=\"T_c584a_row6_col0\" class=\"data row6 col0\" >2.10</td>\n",
       "      <td id=\"T_c584a_row6_col1\" class=\"data row6 col1\" >-0.14</td>\n",
       "      <td id=\"T_c584a_row6_col2\" class=\"data row6 col2\" >-0.33</td>\n",
       "      <td id=\"T_c584a_row6_col3\" class=\"data row6 col3\" >-0.26</td>\n",
       "      <td id=\"T_c584a_row6_col4\" class=\"data row6 col4\" >-0.02</td>\n",
       "      <td id=\"T_c584a_row6_col5\" class=\"data row6 col5\" >0.02</td>\n",
       "      <td id=\"T_c584a_row6_col6\" class=\"data row6 col6\" >-0.25</td>\n",
       "      <td id=\"T_c584a_row6_col7\" class=\"data row6 col7\" >-0.19</td>\n",
       "      <td id=\"T_c584a_row6_col8\" class=\"data row6 col8\" >-0.20</td>\n",
       "      <td id=\"T_c584a_row6_col9\" class=\"data row6 col9\" >-0.23</td>\n",
       "      <td id=\"T_c584a_row6_col10\" class=\"data row6 col10\" >-0.23</td>\n",
       "    </tr>\n",
       "    <tr>\n",
       "      <th id=\"T_c584a_level0_row7\" class=\"row_heading level0 row7\" rowspan=\"7\">2</th>\n",
       "      <th id=\"T_c584a_level1_row7\" class=\"row_heading level1 row7\" >Mean</th>\n",
       "      <td id=\"T_c584a_row7_col0\" class=\"data row7 col0\" >2145.42</td>\n",
       "      <td id=\"T_c584a_row7_col1\" class=\"data row7 col1\" >16.72</td>\n",
       "      <td id=\"T_c584a_row7_col2\" class=\"data row7 col2\" >16.47</td>\n",
       "      <td id=\"T_c584a_row7_col3\" class=\"data row7 col3\" >17.80</td>\n",
       "      <td id=\"T_c584a_row7_col4\" class=\"data row7 col4\" >17.06</td>\n",
       "      <td id=\"T_c584a_row7_col5\" class=\"data row7 col5\" >16.84</td>\n",
       "      <td id=\"T_c584a_row7_col6\" class=\"data row7 col6\" >221.24</td>\n",
       "      <td id=\"T_c584a_row7_col7\" class=\"data row7 col7\" >218.81</td>\n",
       "      <td id=\"T_c584a_row7_col8\" class=\"data row7 col8\" >225.35</td>\n",
       "      <td id=\"T_c584a_row7_col9\" class=\"data row7 col9\" >223.31</td>\n",
       "      <td id=\"T_c584a_row7_col10\" class=\"data row7 col10\" >225.08</td>\n",
       "    </tr>\n",
       "    <tr>\n",
       "      <th id=\"T_c584a_level1_row8\" class=\"row_heading level1 row8\" >Variance</th>\n",
       "      <td id=\"T_c584a_row8_col0\" class=\"data row8 col0\" >165227.38</td>\n",
       "      <td id=\"T_c584a_row8_col1\" class=\"data row8 col1\" >20.09</td>\n",
       "      <td id=\"T_c584a_row8_col2\" class=\"data row8 col2\" >17.45</td>\n",
       "      <td id=\"T_c584a_row8_col3\" class=\"data row8 col3\" >49.22</td>\n",
       "      <td id=\"T_c584a_row8_col4\" class=\"data row8 col4\" >18.96</td>\n",
       "      <td id=\"T_c584a_row8_col5\" class=\"data row8 col5\" >28.81</td>\n",
       "      <td id=\"T_c584a_row8_col6\" class=\"data row8 col6\" >91016.81</td>\n",
       "      <td id=\"T_c584a_row8_col7\" class=\"data row8 col7\" >89239.26</td>\n",
       "      <td id=\"T_c584a_row8_col8\" class=\"data row8 col8\" >93875.32</td>\n",
       "      <td id=\"T_c584a_row8_col9\" class=\"data row8 col9\" >92757.19</td>\n",
       "      <td id=\"T_c584a_row8_col10\" class=\"data row8 col10\" >93671.90</td>\n",
       "    </tr>\n",
       "    <tr>\n",
       "      <th id=\"T_c584a_level1_row9\" class=\"row_heading level1 row9\" >Median</th>\n",
       "      <td id=\"T_c584a_row9_col0\" class=\"data row9 col0\" >2096.00</td>\n",
       "      <td id=\"T_c584a_row9_col1\" class=\"data row9 col1\" >16.60</td>\n",
       "      <td id=\"T_c584a_row9_col2\" class=\"data row9 col2\" >16.40</td>\n",
       "      <td id=\"T_c584a_row9_col3\" class=\"data row9 col3\" >17.20</td>\n",
       "      <td id=\"T_c584a_row9_col4\" class=\"data row9 col4\" >17.00</td>\n",
       "      <td id=\"T_c584a_row9_col5\" class=\"data row9 col5\" >16.60</td>\n",
       "      <td id=\"T_c584a_row9_col6\" class=\"data row9 col6\" >12.00</td>\n",
       "      <td id=\"T_c584a_row9_col7\" class=\"data row9 col7\" >11.00</td>\n",
       "      <td id=\"T_c584a_row9_col8\" class=\"data row9 col8\" >11.00</td>\n",
       "      <td id=\"T_c584a_row9_col9\" class=\"data row9 col9\" >11.00</td>\n",
       "      <td id=\"T_c584a_row9_col10\" class=\"data row9 col10\" >11.00</td>\n",
       "    </tr>\n",
       "    <tr>\n",
       "      <th id=\"T_c584a_level1_row10\" class=\"row_heading level1 row10\" >Min</th>\n",
       "      <td id=\"T_c584a_row10_col0\" class=\"data row10 col0\" >1027.00</td>\n",
       "      <td id=\"T_c584a_row10_col1\" class=\"data row10 col1\" >4.60</td>\n",
       "      <td id=\"T_c584a_row10_col2\" class=\"data row10 col2\" >4.50</td>\n",
       "      <td id=\"T_c584a_row10_col3\" class=\"data row10 col3\" >0.20</td>\n",
       "      <td id=\"T_c584a_row10_col4\" class=\"data row10 col4\" >3.90</td>\n",
       "      <td id=\"T_c584a_row10_col5\" class=\"data row10 col5\" >2.90</td>\n",
       "      <td id=\"T_c584a_row10_col6\" class=\"data row10 col6\" >0.00</td>\n",
       "      <td id=\"T_c584a_row10_col7\" class=\"data row10 col7\" >0.00</td>\n",
       "      <td id=\"T_c584a_row10_col8\" class=\"data row10 col8\" >0.00</td>\n",
       "      <td id=\"T_c584a_row10_col9\" class=\"data row10 col9\" >0.00</td>\n",
       "      <td id=\"T_c584a_row10_col10\" class=\"data row10 col10\" >0.00</td>\n",
       "    </tr>\n",
       "    <tr>\n",
       "      <th id=\"T_c584a_level1_row11\" class=\"row_heading level1 row11\" >Max</th>\n",
       "      <td id=\"T_c584a_row11_col0\" class=\"data row11 col0\" >3808.00</td>\n",
       "      <td id=\"T_c584a_row11_col1\" class=\"data row11 col1\" >30.10</td>\n",
       "      <td id=\"T_c584a_row11_col2\" class=\"data row11 col2\" >30.20</td>\n",
       "      <td id=\"T_c584a_row11_col3\" class=\"data row11 col3\" >38.80</td>\n",
       "      <td id=\"T_c584a_row11_col4\" class=\"data row11 col4\" >31.20</td>\n",
       "      <td id=\"T_c584a_row11_col5\" class=\"data row11 col5\" >33.60</td>\n",
       "      <td id=\"T_c584a_row11_col6\" class=\"data row11 col6\" >1031.00</td>\n",
       "      <td id=\"T_c584a_row11_col7\" class=\"data row11 col7\" >1024.00</td>\n",
       "      <td id=\"T_c584a_row11_col8\" class=\"data row11 col8\" >1035.00</td>\n",
       "      <td id=\"T_c584a_row11_col9\" class=\"data row11 col9\" >1042.00</td>\n",
       "      <td id=\"T_c584a_row11_col10\" class=\"data row11 col10\" >1045.00</td>\n",
       "    </tr>\n",
       "    <tr>\n",
       "      <th id=\"T_c584a_level1_row12\" class=\"row_heading level1 row12\" >Skewness</th>\n",
       "      <td id=\"T_c584a_row12_col0\" class=\"data row12 col0\" >0.67</td>\n",
       "      <td id=\"T_c584a_row12_col1\" class=\"data row12 col1\" >0.06</td>\n",
       "      <td id=\"T_c584a_row12_col2\" class=\"data row12 col2\" >-0.02</td>\n",
       "      <td id=\"T_c584a_row12_col3\" class=\"data row12 col3\" >0.37</td>\n",
       "      <td id=\"T_c584a_row12_col4\" class=\"data row12 col4\" >0.11</td>\n",
       "      <td id=\"T_c584a_row12_col5\" class=\"data row12 col5\" >0.27</td>\n",
       "      <td id=\"T_c584a_row12_col6\" class=\"data row12 col6\" >1.11</td>\n",
       "      <td id=\"T_c584a_row12_col7\" class=\"data row12 col7\" >1.12</td>\n",
       "      <td id=\"T_c584a_row12_col8\" class=\"data row12 col8\" >1.09</td>\n",
       "      <td id=\"T_c584a_row12_col9\" class=\"data row12 col9\" >1.11</td>\n",
       "      <td id=\"T_c584a_row12_col10\" class=\"data row12 col10\" >1.10</td>\n",
       "    </tr>\n",
       "    <tr>\n",
       "      <th id=\"T_c584a_level1_row13\" class=\"row_heading level1 row13\" >Kurtosis</th>\n",
       "      <td id=\"T_c584a_row13_col0\" class=\"data row13 col0\" >0.84</td>\n",
       "      <td id=\"T_c584a_row13_col1\" class=\"data row13 col1\" >-0.36</td>\n",
       "      <td id=\"T_c584a_row13_col2\" class=\"data row13 col2\" >-0.45</td>\n",
       "      <td id=\"T_c584a_row13_col3\" class=\"data row13 col3\" >-0.45</td>\n",
       "      <td id=\"T_c584a_row13_col4\" class=\"data row13 col4\" >-0.30</td>\n",
       "      <td id=\"T_c584a_row13_col5\" class=\"data row13 col5\" >-0.34</td>\n",
       "      <td id=\"T_c584a_row13_col6\" class=\"data row13 col6\" >-0.16</td>\n",
       "      <td id=\"T_c584a_row13_col7\" class=\"data row13 col7\" >-0.13</td>\n",
       "      <td id=\"T_c584a_row13_col8\" class=\"data row13 col8\" >-0.21</td>\n",
       "      <td id=\"T_c584a_row13_col9\" class=\"data row13 col9\" >-0.17</td>\n",
       "      <td id=\"T_c584a_row13_col10\" class=\"data row13 col10\" >-0.18</td>\n",
       "    </tr>\n",
       "  </tbody>\n",
       "</table>\n"
      ],
      "text/plain": [
       "<pandas.io.formats.style.Styler at 0x13549cf9be0>"
      ]
     },
     "metadata": {},
     "output_type": "display_data"
    }
   ],
   "source": [
    "# --- Dynamically find the columns for temperature and GHI ---\n",
    "load_col = ['Load']\n",
    "temp_cols = sorted([col for col in train_df.columns if 'Temp' in col])\n",
    "ghi_cols = sorted([col for col in train_df.columns if 'GHI' in col])\n",
    "all_cols = load_col + temp_cols + ghi_cols\n",
    "\n",
    "# --- Create a list to hold the statistics for each year ---\n",
    "stats_list = []\n",
    "\n",
    "# --- Loop through each year in the training data ---\n",
    "for year in sorted(train_df['Year'].unique()):\n",
    "    # Filter data for the current year\n",
    "    year_df = train_df[train_df['Year'] == year][all_cols]\n",
    "    \n",
    "    # Calculate descriptive statistics\n",
    "    stats = {\n",
    "        'Mean': year_df.mean(),\n",
    "        'Variance': year_df.var(),\n",
    "        'Median': year_df.median(),\n",
    "        'Min': year_df.min(),\n",
    "        'Max': year_df.max(),\n",
    "        'Skewness': year_df.skew(),\n",
    "        'Kurtosis': year_df.kurt()\n",
    "    }\n",
    "    \n",
    "    # Convert dictionary to DataFrame and set index\n",
    "    stats_df = pd.DataFrame(stats).T\n",
    "    stats_df['Year'] = year\n",
    "    stats_df = stats_df.set_index('Year', append=True).reorder_levels([1, 0])\n",
    "    stats_list.append(stats_df)\n",
    "\n",
    "# --- Concatenate the results for all years into a single DataFrame ---\n",
    "summary_stats = pd.concat(stats_list)\n",
    "\n",
    "# --- Create the multi-level column headers for the final table ---\n",
    "summary_stats.columns = pd.MultiIndex.from_tuples([\n",
    "    ('Load', ''),\n",
    "    ('Temperature', 'Site 1'), ('Temperature', 'Site 2'), ('Temperature', 'Site 3'), \n",
    "    ('Temperature', 'Site 4'), ('Temperature', 'Site 5'),\n",
    "    ('Global Horizontal Irradiance', 'Site 1'), ('Global Horizontal Irradiance', 'Site 2'), \n",
    "    ('Global Horizontal Irradiance', 'Site 3'), ('Global Horizontal Irradiance', 'Site 4'), \n",
    "    ('Global Horizontal Irradiance', 'Site 5')\n",
    "])\n",
    "\n",
    "print(\"Descriptive Statistics for Training Data (Years 1 & 2)\")\n",
    "display(summary_stats.style.format('{:.2f}'))"
   ]
  },
  {
   "cell_type": "markdown",
   "id": "dc261f05",
   "metadata": {},
   "source": [
    "### Interactive Plots"
   ]
  },
  {
   "cell_type": "markdown",
   "id": "8e44c710",
   "metadata": {},
   "source": [
    "#### Daily Variation Analysis"
   ]
  },
  {
   "cell_type": "code",
   "execution_count": 4,
   "id": "1c4117b6",
   "metadata": {},
   "outputs": [
    {
     "data": {
      "application/vnd.jupyter.widget-view+json": {
       "model_id": "bbd04ba3dd7f4b2aa5f53467f44228eb",
       "version_major": 2,
       "version_minor": 0
      },
      "text/plain": [
       "interactive(children=(Dropdown(description='Month:', index=3, options={'January': np.int64(1), 'February': np.…"
      ]
     },
     "metadata": {},
     "output_type": "display_data"
    },
    {
     "data": {
      "text/plain": [
       "<function __main__.plot_daily_variation_ghi(month, site)>"
      ]
     },
     "execution_count": 4,
     "metadata": {},
     "output_type": "execute_result"
    }
   ],
   "source": [
    "def plot_daily_variation_ghi(month, site):\n",
    "    fig, axes = plt.subplots(1, 2, figsize=(18, 9), sharey=True)\n",
    "    for idx, year in enumerate([1, 2]):\n",
    "        ax = axes[idx]\n",
    "        filtered_df = train_df[(train_df[\"Year\"] == year) & (train_df[\"Month\"] == month)]\n",
    "        for day in sorted(filtered_df[\"Day\"].unique()):\n",
    "            subset = filtered_df[filtered_df[\"Day\"] == day]\n",
    "            ax.plot(subset[\"Hour\"], subset[site], alpha=0.5, linestyle=\"-\", marker=\"o\", lw=1.0)\n",
    "        centroid = filtered_df.groupby(\"Hour\")[site].mean()\n",
    "        ax.plot(centroid.index, centroid, color='black', lw=2.5, marker='D', linestyle='-', label=\"Centroid\")\n",
    "        ax.set_xlabel(\"Hour of the Day\")\n",
    "        ax.set_title(f\"Hourly GHI Variation for {calendar.month_name[month]} (Year {year}) - {site}\")\n",
    "        ax.legend(loc=\"upper left\")\n",
    "    axes[0].set_ylabel(\"GHI (W/m$^2$)\")\n",
    "    plt.tight_layout()\n",
    "    plt.show()\n",
    "\n",
    "month_widget_ghi = widgets.Dropdown(options={calendar.month_name[m]: m for m in sorted(train_df[\"Month\"].unique()) if m != 0}, value=4, description=\"Month:\")\n",
    "site_columns_ghi = [col for col in train_df.columns if \"GHI\" in col]\n",
    "site_widget_ghi = widgets.Dropdown(options=site_columns_ghi, value=site_columns_ghi[0], description=\"Site:\")\n",
    "interact(plot_daily_variation_ghi, month=month_widget_ghi, site=site_widget_ghi)"
   ]
  },
  {
   "cell_type": "code",
   "execution_count": 5,
   "id": "07a510ea",
   "metadata": {},
   "outputs": [
    {
     "data": {
      "application/vnd.jupyter.widget-view+json": {
       "model_id": "2461206b57354958ba5dc57ed7955e77",
       "version_major": 2,
       "version_minor": 0
      },
      "text/plain": [
       "interactive(children=(Dropdown(description='Month:', index=3, options={'January': np.int64(1), 'February': np.…"
      ]
     },
     "metadata": {},
     "output_type": "display_data"
    },
    {
     "data": {
      "text/plain": [
       "<function __main__.plot_daily_variation_temp(month, site)>"
      ]
     },
     "execution_count": 5,
     "metadata": {},
     "output_type": "execute_result"
    }
   ],
   "source": [
    "def plot_daily_variation_temp(month, site):\n",
    "    fig, axes = plt.subplots(1, 2, figsize=(16, 8), sharey=True)\n",
    "    for idx, year in enumerate([1, 2]):\n",
    "        ax = axes[idx]\n",
    "        filtered_df = train_df[(train_df[\"Year\"] == year) & (train_df[\"Month\"] == month)]\n",
    "        for day in sorted(filtered_df[\"Day\"].unique()):\n",
    "            subset = filtered_df[filtered_df[\"Day\"] == day]\n",
    "            ax.plot(subset[\"Hour\"], subset[site], alpha=0.5, linestyle=\"-\", marker=\"o\", lw=1.0)\n",
    "        centroid = filtered_df.groupby(\"Hour\")[site].mean()\n",
    "        ax.plot(centroid.index, centroid, color='black', lw=2.5, marker='D', linestyle='-', label=\"Centroid\")\n",
    "        ax.set_xlabel(\"Hour of the Day\")\n",
    "        ax.set_title(f\"Hourly Temp for {calendar.month_name[month]} (Year {year}) - {site}\")\n",
    "        ax.legend(loc=\"upper left\")\n",
    "    axes[0].set_ylabel(\"Temperature (°C)\")\n",
    "    plt.tight_layout()\n",
    "    plt.show()\n",
    "\n",
    "month_widget_temp = widgets.Dropdown(options={calendar.month_name[m]: m for m in sorted(train_df[\"Month\"].unique()) if m != 0}, value=4, description=\"Month:\")\n",
    "site_columns_temp = [col for col in train_df.columns if \"Temp\" in col]\n",
    "site_widget_temp = widgets.Dropdown(options=site_columns_temp, value=site_columns_temp[0], description=\"Site:\")\n",
    "interact(plot_daily_variation_temp, month=month_widget_temp, site=site_widget_temp)"
   ]
  },
  {
   "cell_type": "code",
   "execution_count": 6,
   "id": "a4513e72",
   "metadata": {},
   "outputs": [
    {
     "data": {
      "application/vnd.jupyter.widget-view+json": {
       "model_id": "c48a3fcb2f814ef3a7034871d731f6b4",
       "version_major": 2,
       "version_minor": 0
      },
      "text/plain": [
       "interactive(children=(Dropdown(description='Month:', index=3, options={'January': np.int64(1), 'February': np.…"
      ]
     },
     "metadata": {},
     "output_type": "display_data"
    },
    {
     "data": {
      "text/plain": [
       "<function __main__.plot_daily_load_variation(month)>"
      ]
     },
     "execution_count": 6,
     "metadata": {},
     "output_type": "execute_result"
    }
   ],
   "source": [
    "def plot_daily_load_variation(month):\n",
    "    fig, axes = plt.subplots(1, 2, figsize=(16, 6), sharey=True)\n",
    "    for idx, year in enumerate([1, 2]):\n",
    "        ax = axes[idx]\n",
    "        filtered_df = train_df[(train_df[\"Year\"] == year) & (train_df[\"Month\"] == month)]\n",
    "        for day in sorted(filtered_df[\"Day\"].unique()):\n",
    "            subset = filtered_df[filtered_df[\"Day\"] == day]\n",
    "            ax.plot(subset[\"Hour\"], subset[\"Load\"], alpha=0.5, linestyle=\"-\", marker=\"o\", lw=1.0)\n",
    "        centroid = filtered_df.groupby(\"Hour\")[\"Load\"].mean()\n",
    "        ax.plot(centroid.index, centroid, color='black', lw=2.5, marker='D', linestyle='-', label=\"Centroid\")\n",
    "        ax.set_xlabel(\"Hour of the Day\")\n",
    "        ax.set_title(f\"Hourly Load for {calendar.month_name[month]} (Year {year})\")\n",
    "        ax.legend(loc=\"upper left\")\n",
    "    axes[0].set_ylabel(\"Electricity Load\")\n",
    "    plt.suptitle(f\"Hourly Electricity Load Variation for {calendar.month_name[month]}\")\n",
    "    plt.tight_layout(rect=[0, 0, 1, 0.95])\n",
    "    plt.show()\n",
    "\n",
    "month_widget_load = widgets.Dropdown(options={calendar.month_name[m]: m for m in sorted(train_df[\"Month\"].unique()) if m != 0}, value=4, description=\"Month:\")\n",
    "interact(plot_daily_load_variation, month=month_widget_load)"
   ]
  },
  {
   "cell_type": "markdown",
   "id": "8d09d67b",
   "metadata": {},
   "source": [
    "#### Weekly Variation Analysis"
   ]
  },
  {
   "cell_type": "code",
   "execution_count": 7,
   "id": "834f8a8a",
   "metadata": {},
   "outputs": [
    {
     "name": "stdout",
     "output_type": "stream",
     "text": [
      "Weekly information has been added to the dataframe successfully.\n"
     ]
    }
   ],
   "source": [
    "# --- Create mappings for month-day calculations ---\n",
    "days_in_month = {\n",
    "    1: 31, 2: 28, 3: 31, 4: 30, 5: 31, 6: 30,\n",
    "    7: 31, 8: 31, 9: 30, 10: 31, 11: 30, 12: 31\n",
    "}\n",
    "cumulative_days_map = {i: sum(list(days_in_month.values())[:i-1]) for i in range(1, 13)}\n",
    "\n",
    "def add_week_info(df):\n",
    "    df = df.copy()\n",
    "    \n",
    "    df.dropna(subset=['Month', 'Day'], inplace=True)\n",
    "    df['Month'] = df['Month'].astype(int)\n",
    "    df['Day'] = df['Day'].astype(int)\n",
    "\n",
    "    max_days = df['Month'].map(days_in_month)\n",
    "    df['Day_Clipped'] = np.minimum(df['Day'], max_days)\n",
    "    cumulative_days = df['Month'].map(cumulative_days_map)\n",
    "    df['DayOfYear'] = cumulative_days + df['Day_Clipped']\n",
    "\n",
    "    df['WeekOfYear'] = ((df['DayOfYear'] - 1) // 7) + 1\n",
    "    df['DayOfWeek'] = (df['DayOfYear'] - 1) % 7\n",
    "    \n",
    "    return df\n",
    "\n",
    "# --- Prepare the training dataframe ---\n",
    "train_df = add_week_info(train_df)\n",
    "print(\"Weekly information has been added to the dataframe successfully.\")"
   ]
  },
  {
   "cell_type": "code",
   "execution_count": 8,
   "id": "303512a3",
   "metadata": {},
   "outputs": [
    {
     "data": {
      "application/vnd.jupyter.widget-view+json": {
       "model_id": "e5790337e0bc4793a14068c549944a5d",
       "version_major": 2,
       "version_minor": 0
      },
      "text/plain": [
       "interactive(children=(Dropdown(description='Month:', index=3, options={'January': np.int64(1), 'February': np.…"
      ]
     },
     "metadata": {},
     "output_type": "display_data"
    },
    {
     "data": {
      "text/plain": [
       "<function __main__.plot_weekly_comparison(month, site)>"
      ]
     },
     "execution_count": 8,
     "metadata": {},
     "output_type": "execute_result"
    }
   ],
   "source": [
    "def plot_weekly_comparison(month, site):\n",
    "    fig, axes = plt.subplots(1, 2, figsize=(18, 8), sharey=True)\n",
    "    \n",
    "    for idx, year in enumerate([1, 2]):\n",
    "        ax = axes[idx]\n",
    "        \n",
    "        # Filter for the selected year and month\n",
    "        month_df = train_df[(train_df[\"Year\"] == year) & (train_df[\"Month\"] == month)]\n",
    "        \n",
    "        # Create the 'HourOfWeek' column for a continuous x-axis\n",
    "        month_df = month_df.copy()\n",
    "        month_df['HourOfWeek'] = month_df['DayOfWeek'] * 24 + month_df['Hour']\n",
    "        \n",
    "        # Find all the unique weeks within that month\n",
    "        weeks_in_month = month_df['WeekOfYear'].unique()\n",
    "        \n",
    "        # Plot each individual week's pattern with transparency\n",
    "        for week in weeks_in_month:\n",
    "            week_subset = month_df[month_df['WeekOfYear'] == week]\n",
    "            ax.plot(week_subset['HourOfWeek'], week_subset[site], alpha=0.3, linestyle=\"-\")\n",
    "            \n",
    "        # Calculate and plot the centroid (average weekly pattern for the month)\n",
    "        centroid = month_df.groupby('HourOfWeek')[site].mean()\n",
    "        ax.plot(centroid.index, centroid, color='black', lw=2.5, linestyle='-', label=\"Monthly Centroid\")\n",
    "        \n",
    "        # --- Formatting the plot ---\n",
    "        ax.set_xlabel(\"Hour of the Week\")\n",
    "        ax.set_title(f\"Weekly GHI Variation in {calendar.month_name[month]} (Year {year}) - {site}\")\n",
    "        ax.legend(loc=\"upper left\")\n",
    "        ax.grid(True, linestyle='--', alpha=0.6)\n",
    "        \n",
    "        # Set x-ticks to correspond to the start of each day for readability\n",
    "        tick_locations = [i * 24 for i in range(7)]\n",
    "        tick_labels = ['Mon', 'Tues', 'Wed', 'Thurs', 'Fri', 'Sat', 'Sun']\n",
    "        ax.set_xticks(tick_locations)\n",
    "        ax.set_xticklabels(tick_labels)\n",
    "        ax.set_xlim(0, 168)\n",
    "\n",
    "    axes[0].set_ylabel(\"GHI (W/m$^2$)\")\n",
    "    plt.tight_layout()\n",
    "    plt.show()\n",
    "\n",
    "# --- Widgets (reusing your original ones) ---\n",
    "month_widget_ghi = widgets.Dropdown(options={calendar.month_name[m]: m for m in sorted(train_df[\"Month\"].unique()) if m != 0}, value=4, description=\"Month:\")\n",
    "site_columns_ghi = [col for col in train_df.columns if \"GHI\" in col]\n",
    "site_widget_ghi = widgets.Dropdown(options=site_columns_ghi, value=site_columns_ghi[0], description=\"Site:\")\n",
    "\n",
    "interact(plot_weekly_comparison, month=month_widget_ghi, site=site_widget_ghi)"
   ]
  },
  {
   "cell_type": "code",
   "execution_count": 9,
   "id": "7c75456c",
   "metadata": {},
   "outputs": [
    {
     "data": {
      "application/vnd.jupyter.widget-view+json": {
       "model_id": "c20081582ae945b08c488f43065bd13d",
       "version_major": 2,
       "version_minor": 0
      },
      "text/plain": [
       "interactive(children=(Dropdown(description='Month:', index=3, options={'January': np.int64(1), 'February': np.…"
      ]
     },
     "metadata": {},
     "output_type": "display_data"
    },
    {
     "data": {
      "text/plain": [
       "<function __main__.plot_weekly_temp_comparison(month, site)>"
      ]
     },
     "execution_count": 9,
     "metadata": {},
     "output_type": "execute_result"
    }
   ],
   "source": [
    "def plot_weekly_temp_comparison(month, site):\n",
    "    fig, axes = plt.subplots(1, 2, figsize=(18, 8), sharey=True)\n",
    "    \n",
    "    for idx, year in enumerate([1, 2]):\n",
    "        ax = axes[idx]\n",
    "        \n",
    "        # Filter for the selected year and month\n",
    "        month_df = train_df[(train_df[\"Year\"] == year) & (train_df[\"Month\"] == month)]\n",
    "        \n",
    "        # Create the 'HourOfWeek' column for a continuous x-axis\n",
    "        month_df = month_df.copy()\n",
    "        month_df['HourOfWeek'] = month_df['DayOfWeek'] * 24 + month_df['Hour']\n",
    "        \n",
    "        # Find all the unique weeks within that month\n",
    "        weeks_in_month = month_df['WeekOfYear'].unique()\n",
    "        \n",
    "        # Plot each individual week's pattern with transparency\n",
    "        for week in weeks_in_month:\n",
    "            week_subset = month_df[month_df['WeekOfYear'] == week]\n",
    "            ax.plot(week_subset['HourOfWeek'], week_subset[site], alpha=0.3, linestyle=\"-\")\n",
    "            \n",
    "        # Calculate and plot the centroid (average weekly pattern for the month)\n",
    "        centroid = month_df.groupby('HourOfWeek')[site].mean()\n",
    "        ax.plot(centroid.index, centroid, color='black', lw=2.5, linestyle='-', label=\"Monthly Centroid\")\n",
    "        \n",
    "        # --- Formatting the plot ---\n",
    "        ax.set_xlabel(\"Hour of the Week\")\n",
    "        ax.set_title(f\"Weekly Temperature Variation in {calendar.month_name[month]} (Year {year}) - {site}\")\n",
    "        ax.legend(loc=\"upper left\")\n",
    "        ax.grid(True, linestyle='--', alpha=0.6)\n",
    "        \n",
    "        # Set x-ticks to correspond to the start of each day for readability\n",
    "        tick_locations = [i * 24 for i in range(7)]\n",
    "        tick_labels = ['Mon', 'Tues', 'Wed', 'Thurs', 'Fri', 'Sat', 'Sun']\n",
    "        ax.set_xticks(tick_locations)\n",
    "        ax.set_xticklabels(tick_labels)\n",
    "        ax.set_xlim(0, 168)\n",
    "\n",
    "    axes[0].set_ylabel(\"Temperature (°C)\")\n",
    "    plt.tight_layout()\n",
    "    plt.show()\n",
    "\n",
    "# --- Widgets for the Temperature plot ---\n",
    "month_widget_temp = widgets.Dropdown(options={calendar.month_name[m]: m for m in sorted(train_df[\"Month\"].unique()) if m != 0}, value=4, description=\"Month:\")\n",
    "site_columns_temp = [col for col in train_df.columns if \"Temp\" in col]\n",
    "site_widget_temp = widgets.Dropdown(options=site_columns_temp, value=site_columns_temp[0], description=\"Site:\")\n",
    "\n",
    "interact(plot_weekly_temp_comparison, month=month_widget_temp, site=site_widget_temp)"
   ]
  },
  {
   "cell_type": "code",
   "execution_count": 10,
   "id": "90631cc5",
   "metadata": {},
   "outputs": [
    {
     "data": {
      "application/vnd.jupyter.widget-view+json": {
       "model_id": "d25533548c8d4e02a95b1aa733c242d7",
       "version_major": 2,
       "version_minor": 0
      },
      "text/plain": [
       "interactive(children=(Dropdown(description='Month:', index=3, options={'January': np.int64(1), 'February': np.…"
      ]
     },
     "metadata": {},
     "output_type": "display_data"
    },
    {
     "data": {
      "text/plain": [
       "<function __main__.plot_weekly_load_comparison(month)>"
      ]
     },
     "execution_count": 10,
     "metadata": {},
     "output_type": "execute_result"
    }
   ],
   "source": [
    "def plot_weekly_load_comparison(month):\n",
    "    fig, axes = plt.subplots(1, 2, figsize=(18, 8), sharey=True)\n",
    "    \n",
    "    for idx, year in enumerate([1, 2]):\n",
    "        ax = axes[idx]\n",
    "        \n",
    "        # Filter for the selected year and month\n",
    "        month_df = train_df[(train_df[\"Year\"] == year) & (train_df[\"Month\"] == month)]\n",
    "        \n",
    "        # Create the 'HourOfWeek' column for a continuous x-axis\n",
    "        month_df = month_df.copy()\n",
    "        month_df['HourOfWeek'] = month_df['DayOfWeek'] * 24 + month_df['Hour']\n",
    "        \n",
    "        # Find all the unique weeks within that month\n",
    "        weeks_in_month = month_df['WeekOfYear'].unique()\n",
    "        \n",
    "        # Plot each individual week's pattern with transparency\n",
    "        for week in weeks_in_month:\n",
    "            week_subset = month_df[month_df['WeekOfYear'] == week]\n",
    "            ax.plot(week_subset['HourOfWeek'], week_subset['Load'], alpha=0.3, linestyle=\"-\")\n",
    "            \n",
    "        # Calculate and plot the centroid (average weekly pattern for the month)\n",
    "        centroid = month_df.groupby('HourOfWeek')['Load'].mean()\n",
    "        ax.plot(centroid.index, centroid, color='black', lw=2.5, linestyle='-', label=\"Monthly Centroid\")\n",
    "        \n",
    "        # --- Formatting the plot ---\n",
    "        ax.set_xlabel(\"Hour of the Week\")\n",
    "        ax.set_title(f\"Weekly Load Variation in {calendar.month_name[month]} (Year {year})\")\n",
    "        ax.legend(loc=\"upper left\")\n",
    "        ax.grid(True, linestyle='--', alpha=0.6)\n",
    "        \n",
    "        # Set x-ticks to correspond to the start of each day for readability\n",
    "        tick_locations = [i * 24 for i in range(7)]\n",
    "        tick_labels = ['Mon', 'Tues', 'Wed', 'Thurs', 'Fri', 'Sat', 'Sun']\n",
    "        ax.set_xticks(tick_locations)\n",
    "        ax.set_xticklabels(tick_labels)\n",
    "        ax.set_xlim(0, 168)\n",
    "\n",
    "    axes[0].set_ylabel(\"Electricity Load\")\n",
    "    plt.tight_layout()\n",
    "    plt.show()\n",
    "\n",
    "# --- Widgets for the Load plot (only month is needed) ---\n",
    "month_widget_load = widgets.Dropdown(options={calendar.month_name[m]: m for m in sorted(train_df[\"Month\"].unique()) if m != 0}, value=4, description=\"Month:\")\n",
    "\n",
    "interact(plot_weekly_load_comparison, month=month_widget_load)"
   ]
  },
  {
   "cell_type": "markdown",
   "id": "d7b6821e",
   "metadata": {},
   "source": [
    "#### Seasonal Variation Analysis"
   ]
  },
  {
   "cell_type": "code",
   "execution_count": 11,
   "id": "0a6b8eaa",
   "metadata": {},
   "outputs": [
    {
     "name": "stdout",
     "output_type": "stream",
     "text": [
      "Season information has been added to the dataframe.\n"
     ]
    }
   ],
   "source": [
    "# --- Define Seasons for California (Northern Hemisphere Meteorological) ---\n",
    "season_map = {\n",
    "    12: 'Winter', 1: 'Winter', 2: 'Winter',\n",
    "    3: 'Spring', 4: 'Spring', 5: 'Spring',\n",
    "    6: 'Summer', 7: 'Summer', 8: 'Summer',\n",
    "    9: 'Autumn', 10: 'Autumn', 11: 'Autumn'\n",
    "}\n",
    "\n",
    "# Add the 'Season' column to the dataframe by mapping the 'Month'\n",
    "train_df['Season'] = train_df['Month'].map(season_map)\n",
    "\n",
    "print(\"Season information has been added to the dataframe.\")"
   ]
  },
  {
   "cell_type": "code",
   "execution_count": 15,
   "id": "8a29091a",
   "metadata": {},
   "outputs": [
    {
     "data": {
      "application/vnd.jupyter.widget-view+json": {
       "model_id": "d3eeb0d7dfd54f0cae5778e0691f6307",
       "version_major": 2,
       "version_minor": 0
      },
      "text/plain": [
       "interactive(children=(Dropdown(description='Season:', options=('Winter', 'Spring', 'Summer', 'Autumn'), value=…"
      ]
     },
     "metadata": {},
     "output_type": "display_data"
    },
    {
     "data": {
      "text/plain": [
       "<function __main__.seasonal_weekly_ghi_plot(season, site)>"
      ]
     },
     "execution_count": 15,
     "metadata": {},
     "output_type": "execute_result"
    }
   ],
   "source": [
    "def plot_seasonal_weekly_comparison(season, site, variable_name, y_label):\n",
    "    fig, axes = plt.subplots(1, 2, figsize=(18, 7), sharey=True)\n",
    "    \n",
    "    colors = ['#1f77b4', '#ff7f0e', '#2ca02c'] \n",
    "    \n",
    "    for idx, year in enumerate([1, 2]):\n",
    "        ax = axes[idx]\n",
    "        \n",
    "        # Filter for the selected year and season\n",
    "        season_df = train_df[(train_df[\"Year\"] == year) & (train_df[\"Season\"] == season)].copy()\n",
    "        \n",
    "        # --- FIX: Create the 'HourOfWeek' column which was missing ---\n",
    "        season_df['HourOfWeek'] = season_df['DayOfWeek'] * 24 + season_df['Hour']\n",
    "        \n",
    "        months_in_season = sorted(season_df['Month'].unique())\n",
    "        \n",
    "        for i, month in enumerate(months_in_season):\n",
    "            month_subset = season_df[season_df['Month'] == month]\n",
    "            centroid = month_subset.groupby('HourOfWeek')[site].mean()\n",
    "            ax.plot(centroid.index, centroid, label=calendar.month_name[month], color=colors[i])\n",
    "\n",
    "        # --- Formatting the plot for 168 hours ---\n",
    "        ax.set_xlabel(\"Hour of the Week\")\n",
    "        ax.set_title(f\"Average Weekly {variable_name} in {season} (Year {year}) - {site}\")\n",
    "        ax.legend()\n",
    "        ax.grid(True, linestyle='--', alpha=0.6)\n",
    "        \n",
    "        tick_locations = [i * 24 for i in range(7)]\n",
    "        tick_labels = ['Mon', 'Tues', 'Wed', 'Thurs', 'Fri', 'Sat', 'Sun']\n",
    "        ax.set_xticks(tick_locations)\n",
    "        ax.set_xticklabels(tick_labels)\n",
    "        ax.set_xlim(0, 168)\n",
    "\n",
    "    axes[0].set_ylabel(f\"Average {y_label}\")\n",
    "    plt.tight_layout()\n",
    "    plt.show()\n",
    "\n",
    "def plot_seasonal_weekly_load_comparison(season):\n",
    "    fig, axes = plt.subplots(1, 2, figsize=(18, 7), sharey=True)\n",
    "    colors = ['#1f77b4', '#ff7f0e', '#2ca02c']\n",
    "    for idx, year in enumerate([1, 2]):\n",
    "        ax = axes[idx]\n",
    "        season_df = train_df[(train_df[\"Year\"] == year) & (train_df[\"Season\"] == season)].copy()\n",
    "        \n",
    "        # --- FIX: Create the 'HourOfWeek' column which was missing ---\n",
    "        season_df['HourOfWeek'] = season_df['DayOfWeek'] * 24 + season_df['Hour']\n",
    "\n",
    "        months_in_season = sorted(season_df['Month'].unique())\n",
    "        for i, month in enumerate(months_in_season):\n",
    "            month_subset = season_df[season_df['Month'] == month]\n",
    "            centroid = month_subset.groupby('HourOfWeek')['Load'].mean()\n",
    "            ax.plot(centroid.index, centroid, label=calendar.month_name[month], color=colors[i])\n",
    "            \n",
    "        ax.set_xlabel(\"Hour of the Week\")\n",
    "        ax.set_title(f\"Average Weekly Load in {season} (Year {year})\")\n",
    "        ax.legend()\n",
    "        ax.grid(True, linestyle='--', alpha=0.6)\n",
    "        tick_locations = [i * 24 for i in range(7)]\n",
    "        tick_labels = ['Mon', 'Tues', 'Wed', 'Thurs', 'Fri', 'Sat', 'Sun']\n",
    "        ax.set_xticks(tick_locations)\n",
    "        ax.set_xticklabels(tick_labels)\n",
    "        ax.set_xlim(0, 168)\n",
    "        \n",
    "    axes[0].set_ylabel(\"Average Electricity Load\")\n",
    "    plt.tight_layout()\n",
    "    plt.show()\n",
    "\n",
    "# --- Reusing the Season Widget ---\n",
    "season_widget = widgets.Dropdown(options=['Winter', 'Spring', 'Summer', 'Autumn'], description=\"Season:\")\n",
    "\n",
    "# --- Interactive plot for GHI ---\n",
    "def seasonal_weekly_ghi_plot(season, site):\n",
    "    plot_seasonal_weekly_comparison(season, site, 'GHI', 'GHI (W/m$^2$)')\n",
    "interact(seasonal_weekly_ghi_plot, season=season_widget, site=site_widget_ghi)"
   ]
  },
  {
   "cell_type": "code",
   "execution_count": 13,
   "id": "c09617f1",
   "metadata": {},
   "outputs": [
    {
     "data": {
      "application/vnd.jupyter.widget-view+json": {
       "model_id": "e5961177c573407e93de33a862fc13b2",
       "version_major": 2,
       "version_minor": 0
      },
      "text/plain": [
       "interactive(children=(Dropdown(description='Season:', options=('Winter', 'Spring', 'Summer', 'Autumn'), value=…"
      ]
     },
     "metadata": {},
     "output_type": "display_data"
    },
    {
     "data": {
      "text/plain": [
       "<function __main__.seasonal_weekly_temp_plot(season, site)>"
      ]
     },
     "execution_count": 13,
     "metadata": {},
     "output_type": "execute_result"
    }
   ],
   "source": [
    "# --- Interactive plot for Temperature ---\n",
    "def seasonal_weekly_temp_plot(season, site):\n",
    "    plot_seasonal_weekly_comparison(season, site, 'Temperature', 'Temperature (°C)')\n",
    "interact(seasonal_weekly_temp_plot, season=season_widget, site=site_widget_temp)"
   ]
  },
  {
   "cell_type": "code",
   "execution_count": 14,
   "id": "8ae463ad",
   "metadata": {},
   "outputs": [
    {
     "data": {
      "application/vnd.jupyter.widget-view+json": {
       "model_id": "deb507f8e6c14627a7b7c29312f42fee",
       "version_major": 2,
       "version_minor": 0
      },
      "text/plain": [
       "interactive(children=(Dropdown(description='Season:', options=('Winter', 'Spring', 'Summer', 'Autumn'), value=…"
      ]
     },
     "metadata": {},
     "output_type": "display_data"
    },
    {
     "data": {
      "text/plain": [
       "<function __main__.plot_seasonal_weekly_load_comparison(season)>"
      ]
     },
     "execution_count": 14,
     "metadata": {},
     "output_type": "execute_result"
    }
   ],
   "source": [
    "# --- Interactive plot for Load ---\n",
    "interact(plot_seasonal_weekly_load_comparison, season=season_widget)"
   ]
  },
  {
   "cell_type": "markdown",
   "id": "c5d0d54c",
   "metadata": {},
   "source": [
    "### Correlation and Collinearity"
   ]
  }
 ],
 "metadata": {
  "kernelspec": {
   "display_name": "base",
   "language": "python",
   "name": "python3"
  },
  "language_info": {
   "codemirror_mode": {
    "name": "ipython",
    "version": 3
   },
   "file_extension": ".py",
   "mimetype": "text/x-python",
   "name": "python",
   "nbconvert_exporter": "python",
   "pygments_lexer": "ipython3",
   "version": "3.13.5"
  }
 },
 "nbformat": 4,
 "nbformat_minor": 5
}
