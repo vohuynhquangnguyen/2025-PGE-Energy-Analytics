{
 "cells": [
  {
   "cell_type": "code",
   "execution_count": 25,
   "metadata": {},
   "outputs": [],
   "source": [
    "import os\n",
    "import numpy as np\n",
    "import pandas as pd\n",
    "import matplotlib.pyplot as plt\n",
    "import calendar\n",
    "import ipywidgets as widgets\n",
    "from ipywidgets import interact\n",
    "\n",
    "# --- Set global Matplotlib parameters ---\n",
    "plt.rcParams[\"font.family\"] = \"serif\"\n",
    "plt.rcParams[\"text.usetex\"] = True\n",
    "plt.rcParams[\"text.latex.preamble\"] = r\"\\usepackage{amsmath}\"\n",
    "plt.rcParams[\"figure.dpi\"] = 1200\n",
    "plt.rcParams[\"font.size\"] = 20\n",
    "plt.rcParams[\"axes.labelsize\"] = 20\n",
    "plt.rcParams[\"axes.titlesize\"] = 20\n",
    "plt.rcParams[\"legend.fontsize\"] = 20\n",
    "plt.rcParams[\"xtick.direction\"] = \"in\"\n",
    "plt.rcParams[\"ytick.direction\"] = \"in\"\n",
    "plt.rcParams[\"xtick.major.size\"] = 5.0\n",
    "plt.rcParams[\"xtick.minor.size\"] = 3.0\n",
    "plt.rcParams[\"ytick.major.size\"] = 5.0\n",
    "plt.rcParams[\"ytick.minor.size\"] = 3.0\n",
    "plt.rcParams[\"axes.linewidth\"] = 1.5\n",
    "plt.rcParams[\"legend.handlelength\"] = 2.0"
   ]
  },
  {
   "cell_type": "code",
   "execution_count": null,
   "metadata": {},
   "outputs": [],
   "source": [
    "# --- Load training data (Years 1 and 2) ---\n",
    "train_df = pd.read_excel('./datasets/training.xlsx', sheet_name='Data')\n",
    "train_df.to_csv('./datasets/training.csv', index=False)"
   ]
  },
  {
   "cell_type": "markdown",
   "metadata": {},
   "source": [
    "# Hourly GHI Variation"
   ]
  },
  {
   "cell_type": "code",
   "execution_count": 27,
   "metadata": {},
   "outputs": [
    {
     "data": {
      "application/vnd.jupyter.widget-view+json": {
       "model_id": "1412421c82fa4b61bf5e2a30af03cd26",
       "version_major": 2,
       "version_minor": 0
      },
      "text/plain": [
       "interactive(children=(Dropdown(description='Month:', index=3, options={'January': 1, 'February': 2, 'March': 3…"
      ]
     },
     "metadata": {},
     "output_type": "display_data"
    }
   ],
   "source": [
    "# Define the interactive plotting function\n",
    "def plot_hourly_variation(month, site, year):\n",
    "    # Filter the DataFrame for the specified year and month\n",
    "    filtered_df = train_df[(train_df[\"Year\"] == year) & (train_df[\"Month\"] == month)]\n",
    "    \n",
    "    plt.figure(figsize=(10, 6))\n",
    "    \n",
    "    # Plot each day's hourly variation\n",
    "    for day in sorted(filtered_df[\"Day\"].unique()):\n",
    "        subset = filtered_df[filtered_df[\"Day\"] == day]\n",
    "        plt.plot(subset[\"Hour\"], subset[site],\n",
    "                 alpha=0.5, linestyle=\"-\", marker=\"o\", lw=1.0)\n",
    "    \n",
    "    # Compute and plot the centroid: average GHI for each hour across all days\n",
    "    centroid = filtered_df.groupby(\"Hour\")[site].mean()\n",
    "    plt.plot(centroid.index, centroid, color='black', lw=2.5, marker='D', linestyle='-', label=\"Centroid\")\n",
    "    \n",
    "    plt.xlabel(\"Hour of the Day\")\n",
    "    plt.ylabel(\"GHI (Global Horizontal Irradiance)\")\n",
    "    plt.title(f\"Hourly GHI Variation for {calendar.month_name[month]} (Year {year}) - {site}\")\n",
    "    plt.legend(loc=\"upper left\")\n",
    "    plt.show()\n",
    "\n",
    "# Create widget for month selection (using month names for clarity)\n",
    "month_widget = widgets.Dropdown(\n",
    "    options={calendar.month_name[m]: m for m in sorted(train_df[\"Month\"].unique()) if m != 0},\n",
    "    value=4,\n",
    "    description=\"Month:\",\n",
    ")\n",
    "\n",
    "# Create widget for site selection (assumes site columns contain \"GHI\")\n",
    "site_columns = [col for col in train_df.columns if \"GHI\" in col]\n",
    "site_widget = widgets.Dropdown(\n",
    "    options=site_columns,\n",
    "    value=site_columns[0],\n",
    "    description=\"Site:\",\n",
    ")\n",
    "\n",
    "# Create widget for year selection\n",
    "year_widget = widgets.Dropdown(\n",
    "    options=sorted(train_df[\"Year\"].unique()),\n",
    "    value=1,\n",
    "    description=\"Year:\",\n",
    ")\n",
    "\n",
    "# Use the interactive widget\n",
    "interact(plot_hourly_variation, month=month_widget, site=site_widget, year=year_widget);"
   ]
  },
  {
   "cell_type": "markdown",
   "metadata": {},
   "source": [
    "# Hourly Temperature Variation"
   ]
  },
  {
   "cell_type": "code",
   "execution_count": 29,
   "metadata": {},
   "outputs": [
    {
     "data": {
      "application/vnd.jupyter.widget-view+json": {
       "model_id": "769127b97d0640ce8d8fc751b1ce54e7",
       "version_major": 2,
       "version_minor": 0
      },
      "text/plain": [
       "interactive(children=(Dropdown(description='Month:', index=3, options={'January': 1, 'February': 2, 'March': 3…"
      ]
     },
     "metadata": {},
     "output_type": "display_data"
    }
   ],
   "source": [
    "# Define the interactive plotting function\n",
    "def plot_hourly_variation(month, site, year):\n",
    "    # Filter the DataFrame for the specified year and month\n",
    "    filtered_df = train_df[(train_df[\"Year\"] == year) & (train_df[\"Month\"] == month)]\n",
    "    \n",
    "    plt.figure(figsize=(10, 6))\n",
    "    \n",
    "    # Plot each day's hourly variation\n",
    "    for day in sorted(filtered_df[\"Day\"].unique()):\n",
    "        subset = filtered_df[filtered_df[\"Day\"] == day]\n",
    "        plt.plot(subset[\"Hour\"], subset[site],\n",
    "                 alpha=0.5, linestyle=\"-\", marker=\"o\", lw=1.0)\n",
    "    \n",
    "    # Compute and plot the centroid: average GHI for each hour across all days\n",
    "    centroid = filtered_df.groupby(\"Hour\")[site].mean()\n",
    "    plt.plot(centroid.index, centroid, color='black', lw=2.5, marker='D', linestyle='-', label=\"Centroid\")\n",
    "    \n",
    "    plt.xlabel(\"Hour of the Day\")\n",
    "    plt.ylabel(\"Temperature\")\n",
    "    plt.title(f\"Hourly Temperature Variation for {calendar.month_name[month]} (Year {year}) - {site}\")\n",
    "    plt.legend(loc=\"upper left\")\n",
    "    plt.show()\n",
    "\n",
    "# Create widget for month selection (using month names for clarity)\n",
    "month_widget = widgets.Dropdown(\n",
    "    options={calendar.month_name[m]: m for m in sorted(train_df[\"Month\"].unique()) if m != 0},\n",
    "    value=4,\n",
    "    description=\"Month:\",\n",
    ")\n",
    "\n",
    "# Create widget for site selection (assumes site columns contain \"GHI\")\n",
    "site_columns = [col for col in train_df.columns if \"Temp\" in col]\n",
    "site_widget = widgets.Dropdown(\n",
    "    options=site_columns,\n",
    "    value=site_columns[0],\n",
    "    description=\"Site:\",\n",
    ")\n",
    "\n",
    "# Create widget for year selection\n",
    "year_widget = widgets.Dropdown(\n",
    "    options=sorted(train_df[\"Year\"].unique()),\n",
    "    value=1,\n",
    "    description=\"Year:\",\n",
    ")\n",
    "\n",
    "# Use the interactive widget\n",
    "interact(plot_hourly_variation, month=month_widget, site=site_widget, year=year_widget);"
   ]
  },
  {
   "cell_type": "code",
   "execution_count": 32,
   "metadata": {},
   "outputs": [
    {
     "data": {
      "application/vnd.jupyter.widget-view+json": {
       "model_id": "c45a8df8afe14f00bc59e7a3e73423a6",
       "version_major": 2,
       "version_minor": 0
      },
      "text/plain": [
       "interactive(children=(Dropdown(description='Month:', index=3, options={'January': 1, 'February': 2, 'March': 3…"
      ]
     },
     "metadata": {},
     "output_type": "display_data"
    }
   ],
   "source": [
    "def plot_hourly_load_variation(month, year):\n",
    "    # Filter the DataFrame for the selected year and month\n",
    "    filtered_df = train_df[(train_df[\"Year\"] == year) & (train_df[\"Month\"] == month)]\n",
    "    \n",
    "    plt.figure(figsize=(10, 6))\n",
    "    \n",
    "    # Plot each day's hourly electricity load variation\n",
    "    for day in sorted(filtered_df[\"Day\"].unique()):\n",
    "        subset = filtered_df[filtered_df[\"Day\"] == day]\n",
    "        plt.plot(subset[\"Hour\"], subset[\"Load\"],\n",
    "                 alpha=0.5, linestyle=\"-\", marker=\"o\", lw=1.0)\n",
    "    \n",
    "    # Compute and plot the centroid: average load for each hour across all days in the month\n",
    "    centroid = filtered_df.groupby(\"Hour\")[\"Load\"].mean()\n",
    "    plt.plot(centroid.index, centroid, color='black', lw=2.5, marker='D',\n",
    "             linestyle='-', label=\"Centroid\")\n",
    "    \n",
    "    plt.xlabel(\"Hour of the Day\")\n",
    "    plt.ylabel(\"Electricity Load\")\n",
    "    plt.title(f\"Hourly Electricity Load Variation for {calendar.month_name[month]} (Year {year})\")\n",
    "    plt.legend(loc=\"upper left\")\n",
    "    plt.show()\n",
    "\n",
    "# Create widget for month selection (displaying month names for clarity)\n",
    "month_widget = widgets.Dropdown(\n",
    "    options={calendar.month_name[m]: m for m in sorted(train_df[\"Month\"].unique()) if m != 0},\n",
    "    value=4,\n",
    "    description=\"Month:\",\n",
    ")\n",
    "\n",
    "# Create widget for year selection\n",
    "year_widget = widgets.Dropdown(\n",
    "    options=sorted(train_df[\"Year\"].unique()),\n",
    "    value=1,\n",
    "    description=\"Year:\",\n",
    ")\n",
    "\n",
    "# Use the interactive widget to update the plot\n",
    "interact(plot_hourly_load_variation, month=month_widget, year=year_widget);"
   ]
  }
 ],
 "metadata": {
  "kernelspec": {
   "display_name": "base",
   "language": "python",
   "name": "python3"
  },
  "language_info": {
   "codemirror_mode": {
    "name": "ipython",
    "version": 3
   },
   "file_extension": ".py",
   "mimetype": "text/x-python",
   "name": "python",
   "nbconvert_exporter": "python",
   "pygments_lexer": "ipython3",
   "version": "3.11.7"
  }
 },
 "nbformat": 4,
 "nbformat_minor": 2
}
